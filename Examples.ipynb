{
 "cells": [
  {
   "attachments": {},
   "cell_type": "markdown",
   "metadata": {},
   "source": [
    "# altair_basemap - Examples\n",
    "View this notebook at [https://nbviewer.org/github/binste/altair_basemap/blob/main/Examples.ipynb](https://nbviewer.org/github/binste/altair_basemap/blob/main/Examples.ipynb) as the charts won't render on GitHub."
   ]
  },
  {
   "cell_type": "code",
   "execution_count": 1,
   "metadata": {},
   "outputs": [],
   "source": [
    "import altair as alt\n",
    "from vega_datasets import data\n",
    "\n",
    "import altair_basemap as abm"
   ]
  },
  {
   "attachments": {},
   "cell_type": "markdown",
   "metadata": {},
   "source": [
    "# Geoshape chart"
   ]
  },
  {
   "cell_type": "code",
   "execution_count": 2,
   "metadata": {},
   "outputs": [
    {
     "data": {
      "text/html": [
       "\n",
       "<style>\n",
       "  #altair-viz-ead38962ae3c40e3818a88fa61ab08fc.vega-embed {\n",
       "    width: 100%;\n",
       "    display: flex;\n",
       "  }\n",
       "\n",
       "  #altair-viz-ead38962ae3c40e3818a88fa61ab08fc.vega-embed details,\n",
       "  #altair-viz-ead38962ae3c40e3818a88fa61ab08fc.vega-embed details summary {\n",
       "    position: relative;\n",
       "  }\n",
       "</style>\n",
       "<div id=\"altair-viz-ead38962ae3c40e3818a88fa61ab08fc\"></div>\n",
       "<script type=\"text/javascript\">\n",
       "  var VEGA_DEBUG = (typeof VEGA_DEBUG == \"undefined\") ? {} : VEGA_DEBUG;\n",
       "  (function(spec, embedOpt){\n",
       "    let outputDiv = document.currentScript.previousElementSibling;\n",
       "    if (outputDiv.id !== \"altair-viz-ead38962ae3c40e3818a88fa61ab08fc\") {\n",
       "      outputDiv = document.getElementById(\"altair-viz-ead38962ae3c40e3818a88fa61ab08fc\");\n",
       "    }\n",
       "    const paths = {\n",
       "      \"vega\": \"https://cdn.jsdelivr.net/npm/vega@5?noext\",\n",
       "      \"vega-lib\": \"https://cdn.jsdelivr.net/npm/vega-lib?noext\",\n",
       "      \"vega-lite\": \"https://cdn.jsdelivr.net/npm/vega-lite@5.8.0?noext\",\n",
       "      \"vega-embed\": \"https://cdn.jsdelivr.net/npm/vega-embed@6?noext\",\n",
       "    };\n",
       "\n",
       "    function maybeLoadScript(lib, version) {\n",
       "      var key = `${lib.replace(\"-\", \"\")}_version`;\n",
       "      return (VEGA_DEBUG[key] == version) ?\n",
       "        Promise.resolve(paths[lib]) :\n",
       "        new Promise(function(resolve, reject) {\n",
       "          var s = document.createElement('script');\n",
       "          document.getElementsByTagName(\"head\")[0].appendChild(s);\n",
       "          s.async = true;\n",
       "          s.onload = () => {\n",
       "            VEGA_DEBUG[key] = version;\n",
       "            return resolve(paths[lib]);\n",
       "          };\n",
       "          s.onerror = () => reject(`Error loading script: ${paths[lib]}`);\n",
       "          s.src = paths[lib];\n",
       "        });\n",
       "    }\n",
       "\n",
       "    function showError(err) {\n",
       "      outputDiv.innerHTML = `<div class=\"error\" style=\"color:red;\">${err}</div>`;\n",
       "      throw err;\n",
       "    }\n",
       "\n",
       "    function displayChart(vegaEmbed) {\n",
       "      vegaEmbed(outputDiv, spec, embedOpt)\n",
       "        .catch(err => showError(`Javascript Error: ${err.message}<br>This usually means there's a typo in your chart specification. See the javascript console for the full traceback.`));\n",
       "    }\n",
       "\n",
       "    if(typeof define === \"function\" && define.amd) {\n",
       "      requirejs.config({paths});\n",
       "      require([\"vega-embed\"], displayChart, err => showError(`Error loading script: ${err.message}`));\n",
       "    } else {\n",
       "      maybeLoadScript(\"vega\", \"5\")\n",
       "        .then(() => maybeLoadScript(\"vega-lite\", \"5.8.0\"))\n",
       "        .then(() => maybeLoadScript(\"vega-embed\", \"6\"))\n",
       "        .catch(showError)\n",
       "        .then(() => displayChart(vegaEmbed));\n",
       "    }\n",
       "  })({\"config\": {\"view\": {\"continuousWidth\": 300, \"continuousHeight\": 300}}, \"data\": {\"url\": \"https://cdn.jsdelivr.net/npm/vega-datasets@v1.29.0/data/world-110m.json\", \"format\": {\"feature\": \"countries\", \"type\": \"topojson\"}}, \"mark\": {\"type\": \"geoshape\", \"fillOpacity\": 0.1, \"stroke\": \"orange\", \"strokeWidth\": 2}, \"encoding\": {\"fill\": {\"field\": \"id\", \"legend\": null, \"type\": \"quantitative\"}}, \"height\": 600, \"projection\": {\"center\": [0, 50], \"rotate\": [-10, 0, 0], \"scale\": 400, \"type\": \"mercator\"}, \"width\": 600, \"$schema\": \"https://vega.github.io/schema/vega-lite/v5.8.0.json\"}, {\"mode\": \"vega-lite\"});\n",
       "</script>"
      ],
      "text/plain": [
       "alt.Chart(...)"
      ]
     },
     "execution_count": 2,
     "metadata": {},
     "output_type": "execute_result"
    }
   ],
   "source": [
    "source = alt.topo_feature(data.world_110m.url, \"countries\")\n",
    "\n",
    "geoshape_countries = (\n",
    "    alt.Chart(source, width=600, height=600)\n",
    "    .mark_geoshape(\n",
    "        stroke=\"orange\", \n",
    "        strokeWidth=2, \n",
    "        fillOpacity=0.1\n",
    "    )\n",
    "    .encode(fill=alt.Fill(\"id:Q\").legend(None))\n",
    "    .project(\n",
    "        type=\"mercator\",\n",
    "        scale=400,\n",
    "        center=[0, 50],\n",
    "        rotate=[-10, 0, 0]\n",
    "    )\n",
    "\n",
    ")\n",
    "geoshape_countries"
   ]
  },
  {
   "attachments": {},
   "cell_type": "markdown",
   "metadata": {},
   "source": [
    "# Add basemaps"
   ]
  },
  {
   "cell_type": "code",
   "execution_count": 3,
   "metadata": {},
   "outputs": [
    {
     "data": {
      "text/html": [
       "\n",
       "<style>\n",
       "  #altair-viz-567ca36bcbf54adb9a5a5f593c09a398.vega-embed {\n",
       "    width: 100%;\n",
       "    display: flex;\n",
       "  }\n",
       "\n",
       "  #altair-viz-567ca36bcbf54adb9a5a5f593c09a398.vega-embed details,\n",
       "  #altair-viz-567ca36bcbf54adb9a5a5f593c09a398.vega-embed details summary {\n",
       "    position: relative;\n",
       "  }\n",
       "</style>\n",
       "<div id=\"altair-viz-567ca36bcbf54adb9a5a5f593c09a398\"></div>\n",
       "<script type=\"text/javascript\">\n",
       "  var VEGA_DEBUG = (typeof VEGA_DEBUG == \"undefined\") ? {} : VEGA_DEBUG;\n",
       "  (function(spec, embedOpt){\n",
       "    let outputDiv = document.currentScript.previousElementSibling;\n",
       "    if (outputDiv.id !== \"altair-viz-567ca36bcbf54adb9a5a5f593c09a398\") {\n",
       "      outputDiv = document.getElementById(\"altair-viz-567ca36bcbf54adb9a5a5f593c09a398\");\n",
       "    }\n",
       "    const paths = {\n",
       "      \"vega\": \"https://cdn.jsdelivr.net/npm/vega@5?noext\",\n",
       "      \"vega-lib\": \"https://cdn.jsdelivr.net/npm/vega-lib?noext\",\n",
       "      \"vega-lite\": \"https://cdn.jsdelivr.net/npm/vega-lite@5.8.0?noext\",\n",
       "      \"vega-embed\": \"https://cdn.jsdelivr.net/npm/vega-embed@6?noext\",\n",
       "    };\n",
       "\n",
       "    function maybeLoadScript(lib, version) {\n",
       "      var key = `${lib.replace(\"-\", \"\")}_version`;\n",
       "      return (VEGA_DEBUG[key] == version) ?\n",
       "        Promise.resolve(paths[lib]) :\n",
       "        new Promise(function(resolve, reject) {\n",
       "          var s = document.createElement('script');\n",
       "          document.getElementsByTagName(\"head\")[0].appendChild(s);\n",
       "          s.async = true;\n",
       "          s.onload = () => {\n",
       "            VEGA_DEBUG[key] = version;\n",
       "            return resolve(paths[lib]);\n",
       "          };\n",
       "          s.onerror = () => reject(`Error loading script: ${paths[lib]}`);\n",
       "          s.src = paths[lib];\n",
       "        });\n",
       "    }\n",
       "\n",
       "    function showError(err) {\n",
       "      outputDiv.innerHTML = `<div class=\"error\" style=\"color:red;\">${err}</div>`;\n",
       "      throw err;\n",
       "    }\n",
       "\n",
       "    function displayChart(vegaEmbed) {\n",
       "      vegaEmbed(outputDiv, spec, embedOpt)\n",
       "        .catch(err => showError(`Javascript Error: ${err.message}<br>This usually means there's a typo in your chart specification. See the javascript console for the full traceback.`));\n",
       "    }\n",
       "\n",
       "    if(typeof define === \"function\" && define.amd) {\n",
       "      requirejs.config({paths});\n",
       "      require([\"vega-embed\"], displayChart, err => showError(`Error loading script: ${err.message}`));\n",
       "    } else {\n",
       "      maybeLoadScript(\"vega\", \"5\")\n",
       "        .then(() => maybeLoadScript(\"vega-lite\", \"5.8.0\"))\n",
       "        .then(() => maybeLoadScript(\"vega-embed\", \"6\"))\n",
       "        .catch(showError)\n",
       "        .then(() => displayChart(vegaEmbed));\n",
       "    }\n",
       "  })({\"config\": {\"view\": {\"continuousWidth\": 300, \"continuousHeight\": 300}}, \"layer\": [{\"data\": {\"sequence\": {\"start\": 0, \"stop\": 10, \"as\": \"a\"}, \"name\": \"tile_list\"}, \"mark\": {\"type\": \"image\", \"clip\": true, \"height\": {\"expr\": \"tile_size + 1\"}, \"width\": {\"expr\": \"tile_size + 1\"}}, \"encoding\": {\"url\": {\"field\": \"url\", \"type\": \"nominal\"}, \"x\": {\"field\": \"x\", \"scale\": null, \"type\": \"quantitative\"}, \"y\": {\"field\": \"y\", \"scale\": null, \"type\": \"quantitative\"}}, \"transform\": [{\"calculate\": \"sequence(0, 10)\", \"as\": \"b\"}, {\"flatten\": [\"b\"]}, {\"calculate\": \"'https://tile.openstreetmap.org/' + zoom_ceil + '/' + ((datum.a + dii_floor + tiles_count) % tiles_count) + '/' + (datum.b + djj_floor) + '.png'\", \"as\": \"url\"}, {\"calculate\": \"datum.a * tile_size + dx + (tile_size / 2)\", \"as\": \"x\"}, {\"calculate\": \"datum.b * tile_size + dy + (tile_size / 2)\", \"as\": \"y\"}]}, {\"data\": {\"url\": \"https://cdn.jsdelivr.net/npm/vega-datasets@v1.29.0/data/world-110m.json\", \"format\": {\"feature\": \"countries\", \"type\": \"topojson\"}}, \"mark\": {\"type\": \"geoshape\", \"fillOpacity\": 0.1, \"stroke\": \"orange\", \"strokeWidth\": 2}, \"encoding\": {\"fill\": {\"field\": \"id\", \"legend\": null, \"type\": \"quantitative\"}}, \"projection\": {\"center\": [0, 50], \"rotate\": [-10, 0, 0], \"scale\": 400, \"type\": \"mercator\"}}], \"height\": 600, \"params\": [{\"name\": \"base_tile_size\", \"value\": 256}, {\"name\": \"pr_scale\", \"expr\": \"400\"}, {\"name\": \"zoom_level\", \"expr\": \"log((2 * PI * pr_scale) / base_tile_size) / log(2)\"}, {\"name\": \"zoom_ceil\", \"expr\": \"ceil(zoom_level)\"}, {\"name\": \"tiles_count\", \"expr\": \"pow(2, zoom_ceil)\"}, {\"name\": \"tile_size\", \"expr\": \"base_tile_size * pow(2, zoom_level - zoom_ceil)\"}, {\"name\": \"base_point\", \"expr\": \"invert('projection', [0, 0])\"}, {\"name\": \"dii\", \"expr\": \"(base_point[0] + 180) / 360 * tiles_count\"}, {\"name\": \"dii_floor\", \"expr\": \"floor(dii)\"}, {\"name\": \"dx\", \"expr\": \"(dii_floor - dii) * tile_size\"}, {\"name\": \"djj\", \"expr\": \"(1 - log(tan(base_point[1] * PI / 180) + 1 / cos(base_point[1] * PI / 180)) / PI) / 2 * tiles_count\"}, {\"name\": \"djj_floor\", \"expr\": \"floor(djj)\"}, {\"name\": \"dy\", \"expr\": \"round((djj_floor - djj) * tile_size)\"}], \"width\": 600, \"$schema\": \"https://vega.github.io/schema/vega-lite/v5.8.0.json\"}, {\"mode\": \"vega-lite\"});\n",
       "</script>"
      ],
      "text/plain": [
       "alt.LayerChart(...)"
      ]
     },
     "execution_count": 3,
     "metadata": {},
     "output_type": "execute_result"
    }
   ],
   "source": [
    "abm.add_basemap(geoshape_countries)"
   ]
  },
  {
   "attachments": {},
   "cell_type": "markdown",
   "metadata": {},
   "source": [
    "Use a lower zoom level"
   ]
  },
  {
   "cell_type": "code",
   "execution_count": 4,
   "metadata": {},
   "outputs": [
    {
     "data": {
      "text/html": [
       "\n",
       "<style>\n",
       "  #altair-viz-0e0fb8c601b547c6b8ef0a2b56ab5c73.vega-embed {\n",
       "    width: 100%;\n",
       "    display: flex;\n",
       "  }\n",
       "\n",
       "  #altair-viz-0e0fb8c601b547c6b8ef0a2b56ab5c73.vega-embed details,\n",
       "  #altair-viz-0e0fb8c601b547c6b8ef0a2b56ab5c73.vega-embed details summary {\n",
       "    position: relative;\n",
       "  }\n",
       "</style>\n",
       "<div id=\"altair-viz-0e0fb8c601b547c6b8ef0a2b56ab5c73\"></div>\n",
       "<script type=\"text/javascript\">\n",
       "  var VEGA_DEBUG = (typeof VEGA_DEBUG == \"undefined\") ? {} : VEGA_DEBUG;\n",
       "  (function(spec, embedOpt){\n",
       "    let outputDiv = document.currentScript.previousElementSibling;\n",
       "    if (outputDiv.id !== \"altair-viz-0e0fb8c601b547c6b8ef0a2b56ab5c73\") {\n",
       "      outputDiv = document.getElementById(\"altair-viz-0e0fb8c601b547c6b8ef0a2b56ab5c73\");\n",
       "    }\n",
       "    const paths = {\n",
       "      \"vega\": \"https://cdn.jsdelivr.net/npm/vega@5?noext\",\n",
       "      \"vega-lib\": \"https://cdn.jsdelivr.net/npm/vega-lib?noext\",\n",
       "      \"vega-lite\": \"https://cdn.jsdelivr.net/npm/vega-lite@5.8.0?noext\",\n",
       "      \"vega-embed\": \"https://cdn.jsdelivr.net/npm/vega-embed@6?noext\",\n",
       "    };\n",
       "\n",
       "    function maybeLoadScript(lib, version) {\n",
       "      var key = `${lib.replace(\"-\", \"\")}_version`;\n",
       "      return (VEGA_DEBUG[key] == version) ?\n",
       "        Promise.resolve(paths[lib]) :\n",
       "        new Promise(function(resolve, reject) {\n",
       "          var s = document.createElement('script');\n",
       "          document.getElementsByTagName(\"head\")[0].appendChild(s);\n",
       "          s.async = true;\n",
       "          s.onload = () => {\n",
       "            VEGA_DEBUG[key] = version;\n",
       "            return resolve(paths[lib]);\n",
       "          };\n",
       "          s.onerror = () => reject(`Error loading script: ${paths[lib]}`);\n",
       "          s.src = paths[lib];\n",
       "        });\n",
       "    }\n",
       "\n",
       "    function showError(err) {\n",
       "      outputDiv.innerHTML = `<div class=\"error\" style=\"color:red;\">${err}</div>`;\n",
       "      throw err;\n",
       "    }\n",
       "\n",
       "    function displayChart(vegaEmbed) {\n",
       "      vegaEmbed(outputDiv, spec, embedOpt)\n",
       "        .catch(err => showError(`Javascript Error: ${err.message}<br>This usually means there's a typo in your chart specification. See the javascript console for the full traceback.`));\n",
       "    }\n",
       "\n",
       "    if(typeof define === \"function\" && define.amd) {\n",
       "      requirejs.config({paths});\n",
       "      require([\"vega-embed\"], displayChart, err => showError(`Error loading script: ${err.message}`));\n",
       "    } else {\n",
       "      maybeLoadScript(\"vega\", \"5\")\n",
       "        .then(() => maybeLoadScript(\"vega-lite\", \"5.8.0\"))\n",
       "        .then(() => maybeLoadScript(\"vega-embed\", \"6\"))\n",
       "        .catch(showError)\n",
       "        .then(() => displayChart(vegaEmbed));\n",
       "    }\n",
       "  })({\"config\": {\"view\": {\"continuousWidth\": 300, \"continuousHeight\": 300}}, \"layer\": [{\"data\": {\"sequence\": {\"start\": 0, \"stop\": 10, \"as\": \"a\"}, \"name\": \"tile_list\"}, \"mark\": {\"type\": \"image\", \"clip\": true, \"height\": {\"expr\": \"tile_size + 1\"}, \"width\": {\"expr\": \"tile_size + 1\"}}, \"encoding\": {\"url\": {\"field\": \"url\", \"type\": \"nominal\"}, \"x\": {\"field\": \"x\", \"scale\": null, \"type\": \"quantitative\"}, \"y\": {\"field\": \"y\", \"scale\": null, \"type\": \"quantitative\"}}, \"transform\": [{\"calculate\": \"sequence(0, 10)\", \"as\": \"b\"}, {\"flatten\": [\"b\"]}, {\"calculate\": \"'https://tile.openstreetmap.org/' + zoom_ceil + '/' + ((datum.a + dii_floor + tiles_count) % tiles_count) + '/' + (datum.b + djj_floor) + '.png'\", \"as\": \"url\"}, {\"calculate\": \"datum.a * tile_size + dx + (tile_size / 2)\", \"as\": \"x\"}, {\"calculate\": \"datum.b * tile_size + dy + (tile_size / 2)\", \"as\": \"y\"}]}, {\"data\": {\"url\": \"https://cdn.jsdelivr.net/npm/vega-datasets@v1.29.0/data/world-110m.json\", \"format\": {\"feature\": \"countries\", \"type\": \"topojson\"}}, \"mark\": {\"type\": \"geoshape\", \"fillOpacity\": 0.1, \"stroke\": \"orange\", \"strokeWidth\": 2}, \"encoding\": {\"fill\": {\"field\": \"id\", \"legend\": null, \"type\": \"quantitative\"}}, \"projection\": {\"center\": [0, 50], \"rotate\": [-10, 0, 0], \"scale\": 400, \"type\": \"mercator\"}}], \"height\": 600, \"params\": [{\"name\": \"base_tile_size\", \"expr\": \"(2 * PI * pr_scale) / pow(2, zoom_level)\"}, {\"name\": \"pr_scale\", \"expr\": \"400\"}, {\"name\": \"zoom_level\", \"value\": 3}, {\"name\": \"zoom_ceil\", \"expr\": \"ceil(zoom_level)\"}, {\"name\": \"tiles_count\", \"expr\": \"pow(2, zoom_ceil)\"}, {\"name\": \"tile_size\", \"expr\": \"base_tile_size * pow(2, zoom_level - zoom_ceil)\"}, {\"name\": \"base_point\", \"expr\": \"invert('projection', [0, 0])\"}, {\"name\": \"dii\", \"expr\": \"(base_point[0] + 180) / 360 * tiles_count\"}, {\"name\": \"dii_floor\", \"expr\": \"floor(dii)\"}, {\"name\": \"dx\", \"expr\": \"(dii_floor - dii) * tile_size\"}, {\"name\": \"djj\", \"expr\": \"(1 - log(tan(base_point[1] * PI / 180) + 1 / cos(base_point[1] * PI / 180)) / PI) / 2 * tiles_count\"}, {\"name\": \"djj_floor\", \"expr\": \"floor(djj)\"}, {\"name\": \"dy\", \"expr\": \"round((djj_floor - djj) * tile_size)\"}], \"width\": 600, \"$schema\": \"https://vega.github.io/schema/vega-lite/v5.8.0.json\"}, {\"mode\": \"vega-lite\"});\n",
       "</script>"
      ],
      "text/plain": [
       "alt.LayerChart(...)"
      ]
     },
     "execution_count": 4,
     "metadata": {},
     "output_type": "execute_result"
    }
   ],
   "source": [
    "abm.add_basemap(geoshape_countries, zoom=3)"
   ]
  },
  {
   "attachments": {},
   "cell_type": "markdown",
   "metadata": {},
   "source": [
    "Use a higher zoom level"
   ]
  },
  {
   "cell_type": "code",
   "execution_count": 5,
   "metadata": {},
   "outputs": [
    {
     "data": {
      "text/html": [
       "\n",
       "<style>\n",
       "  #altair-viz-7bcdd2d5aace4aa7968d6d7d034d152f.vega-embed {\n",
       "    width: 100%;\n",
       "    display: flex;\n",
       "  }\n",
       "\n",
       "  #altair-viz-7bcdd2d5aace4aa7968d6d7d034d152f.vega-embed details,\n",
       "  #altair-viz-7bcdd2d5aace4aa7968d6d7d034d152f.vega-embed details summary {\n",
       "    position: relative;\n",
       "  }\n",
       "</style>\n",
       "<div id=\"altair-viz-7bcdd2d5aace4aa7968d6d7d034d152f\"></div>\n",
       "<script type=\"text/javascript\">\n",
       "  var VEGA_DEBUG = (typeof VEGA_DEBUG == \"undefined\") ? {} : VEGA_DEBUG;\n",
       "  (function(spec, embedOpt){\n",
       "    let outputDiv = document.currentScript.previousElementSibling;\n",
       "    if (outputDiv.id !== \"altair-viz-7bcdd2d5aace4aa7968d6d7d034d152f\") {\n",
       "      outputDiv = document.getElementById(\"altair-viz-7bcdd2d5aace4aa7968d6d7d034d152f\");\n",
       "    }\n",
       "    const paths = {\n",
       "      \"vega\": \"https://cdn.jsdelivr.net/npm/vega@5?noext\",\n",
       "      \"vega-lib\": \"https://cdn.jsdelivr.net/npm/vega-lib?noext\",\n",
       "      \"vega-lite\": \"https://cdn.jsdelivr.net/npm/vega-lite@5.8.0?noext\",\n",
       "      \"vega-embed\": \"https://cdn.jsdelivr.net/npm/vega-embed@6?noext\",\n",
       "    };\n",
       "\n",
       "    function maybeLoadScript(lib, version) {\n",
       "      var key = `${lib.replace(\"-\", \"\")}_version`;\n",
       "      return (VEGA_DEBUG[key] == version) ?\n",
       "        Promise.resolve(paths[lib]) :\n",
       "        new Promise(function(resolve, reject) {\n",
       "          var s = document.createElement('script');\n",
       "          document.getElementsByTagName(\"head\")[0].appendChild(s);\n",
       "          s.async = true;\n",
       "          s.onload = () => {\n",
       "            VEGA_DEBUG[key] = version;\n",
       "            return resolve(paths[lib]);\n",
       "          };\n",
       "          s.onerror = () => reject(`Error loading script: ${paths[lib]}`);\n",
       "          s.src = paths[lib];\n",
       "        });\n",
       "    }\n",
       "\n",
       "    function showError(err) {\n",
       "      outputDiv.innerHTML = `<div class=\"error\" style=\"color:red;\">${err}</div>`;\n",
       "      throw err;\n",
       "    }\n",
       "\n",
       "    function displayChart(vegaEmbed) {\n",
       "      vegaEmbed(outputDiv, spec, embedOpt)\n",
       "        .catch(err => showError(`Javascript Error: ${err.message}<br>This usually means there's a typo in your chart specification. See the javascript console for the full traceback.`));\n",
       "    }\n",
       "\n",
       "    if(typeof define === \"function\" && define.amd) {\n",
       "      requirejs.config({paths});\n",
       "      require([\"vega-embed\"], displayChart, err => showError(`Error loading script: ${err.message}`));\n",
       "    } else {\n",
       "      maybeLoadScript(\"vega\", \"5\")\n",
       "        .then(() => maybeLoadScript(\"vega-lite\", \"5.8.0\"))\n",
       "        .then(() => maybeLoadScript(\"vega-embed\", \"6\"))\n",
       "        .catch(showError)\n",
       "        .then(() => displayChart(vegaEmbed));\n",
       "    }\n",
       "  })({\"config\": {\"view\": {\"continuousWidth\": 300, \"continuousHeight\": 300}}, \"layer\": [{\"data\": {\"sequence\": {\"start\": 0, \"stop\": 10, \"as\": \"a\"}, \"name\": \"tile_list\"}, \"mark\": {\"type\": \"image\", \"clip\": true, \"height\": {\"expr\": \"tile_size + 1\"}, \"width\": {\"expr\": \"tile_size + 1\"}}, \"encoding\": {\"url\": {\"field\": \"url\", \"type\": \"nominal\"}, \"x\": {\"field\": \"x\", \"scale\": null, \"type\": \"quantitative\"}, \"y\": {\"field\": \"y\", \"scale\": null, \"type\": \"quantitative\"}}, \"transform\": [{\"calculate\": \"sequence(0, 10)\", \"as\": \"b\"}, {\"flatten\": [\"b\"]}, {\"calculate\": \"'https://tile.openstreetmap.org/' + zoom_ceil + '/' + ((datum.a + dii_floor + tiles_count) % tiles_count) + '/' + (datum.b + djj_floor) + '.png'\", \"as\": \"url\"}, {\"calculate\": \"datum.a * tile_size + dx + (tile_size / 2)\", \"as\": \"x\"}, {\"calculate\": \"datum.b * tile_size + dy + (tile_size / 2)\", \"as\": \"y\"}]}, {\"data\": {\"url\": \"https://cdn.jsdelivr.net/npm/vega-datasets@v1.29.0/data/world-110m.json\", \"format\": {\"feature\": \"countries\", \"type\": \"topojson\"}}, \"mark\": {\"type\": \"geoshape\", \"fillOpacity\": 0.1, \"stroke\": \"orange\", \"strokeWidth\": 2}, \"encoding\": {\"fill\": {\"field\": \"id\", \"legend\": null, \"type\": \"quantitative\"}}, \"projection\": {\"center\": [0, 50], \"rotate\": [-10, 0, 0], \"scale\": 400, \"type\": \"mercator\"}}], \"height\": 600, \"params\": [{\"name\": \"base_tile_size\", \"expr\": \"(2 * PI * pr_scale) / pow(2, zoom_level)\"}, {\"name\": \"pr_scale\", \"expr\": \"400\"}, {\"name\": \"zoom_level\", \"value\": 5}, {\"name\": \"zoom_ceil\", \"expr\": \"ceil(zoom_level)\"}, {\"name\": \"tiles_count\", \"expr\": \"pow(2, zoom_ceil)\"}, {\"name\": \"tile_size\", \"expr\": \"base_tile_size * pow(2, zoom_level - zoom_ceil)\"}, {\"name\": \"base_point\", \"expr\": \"invert('projection', [0, 0])\"}, {\"name\": \"dii\", \"expr\": \"(base_point[0] + 180) / 360 * tiles_count\"}, {\"name\": \"dii_floor\", \"expr\": \"floor(dii)\"}, {\"name\": \"dx\", \"expr\": \"(dii_floor - dii) * tile_size\"}, {\"name\": \"djj\", \"expr\": \"(1 - log(tan(base_point[1] * PI / 180) + 1 / cos(base_point[1] * PI / 180)) / PI) / 2 * tiles_count\"}, {\"name\": \"djj_floor\", \"expr\": \"floor(djj)\"}, {\"name\": \"dy\", \"expr\": \"round((djj_floor - djj) * tile_size)\"}], \"width\": 600, \"$schema\": \"https://vega.github.io/schema/vega-lite/v5.8.0.json\"}, {\"mode\": \"vega-lite\"});\n",
       "</script>"
      ],
      "text/plain": [
       "alt.LayerChart(...)"
      ]
     },
     "execution_count": 5,
     "metadata": {},
     "output_type": "execute_result"
    }
   ],
   "source": [
    "abm.add_basemap(geoshape_countries, zoom=5)"
   ]
  },
  {
   "attachments": {},
   "cell_type": "markdown",
   "metadata": {},
   "source": [
    "Use a different tile provider. Providers are coming from `xyzservices` and can be accessed via `abm.providers` or `xyzservices.providers`."
   ]
  },
  {
   "cell_type": "code",
   "execution_count": 6,
   "metadata": {},
   "outputs": [
    {
     "data": {
      "text/html": [
       "\n",
       "<style>\n",
       "  #altair-viz-c4eca12a9e5343daa500648110e3f667.vega-embed {\n",
       "    width: 100%;\n",
       "    display: flex;\n",
       "  }\n",
       "\n",
       "  #altair-viz-c4eca12a9e5343daa500648110e3f667.vega-embed details,\n",
       "  #altair-viz-c4eca12a9e5343daa500648110e3f667.vega-embed details summary {\n",
       "    position: relative;\n",
       "  }\n",
       "</style>\n",
       "<div id=\"altair-viz-c4eca12a9e5343daa500648110e3f667\"></div>\n",
       "<script type=\"text/javascript\">\n",
       "  var VEGA_DEBUG = (typeof VEGA_DEBUG == \"undefined\") ? {} : VEGA_DEBUG;\n",
       "  (function(spec, embedOpt){\n",
       "    let outputDiv = document.currentScript.previousElementSibling;\n",
       "    if (outputDiv.id !== \"altair-viz-c4eca12a9e5343daa500648110e3f667\") {\n",
       "      outputDiv = document.getElementById(\"altair-viz-c4eca12a9e5343daa500648110e3f667\");\n",
       "    }\n",
       "    const paths = {\n",
       "      \"vega\": \"https://cdn.jsdelivr.net/npm/vega@5?noext\",\n",
       "      \"vega-lib\": \"https://cdn.jsdelivr.net/npm/vega-lib?noext\",\n",
       "      \"vega-lite\": \"https://cdn.jsdelivr.net/npm/vega-lite@5.8.0?noext\",\n",
       "      \"vega-embed\": \"https://cdn.jsdelivr.net/npm/vega-embed@6?noext\",\n",
       "    };\n",
       "\n",
       "    function maybeLoadScript(lib, version) {\n",
       "      var key = `${lib.replace(\"-\", \"\")}_version`;\n",
       "      return (VEGA_DEBUG[key] == version) ?\n",
       "        Promise.resolve(paths[lib]) :\n",
       "        new Promise(function(resolve, reject) {\n",
       "          var s = document.createElement('script');\n",
       "          document.getElementsByTagName(\"head\")[0].appendChild(s);\n",
       "          s.async = true;\n",
       "          s.onload = () => {\n",
       "            VEGA_DEBUG[key] = version;\n",
       "            return resolve(paths[lib]);\n",
       "          };\n",
       "          s.onerror = () => reject(`Error loading script: ${paths[lib]}`);\n",
       "          s.src = paths[lib];\n",
       "        });\n",
       "    }\n",
       "\n",
       "    function showError(err) {\n",
       "      outputDiv.innerHTML = `<div class=\"error\" style=\"color:red;\">${err}</div>`;\n",
       "      throw err;\n",
       "    }\n",
       "\n",
       "    function displayChart(vegaEmbed) {\n",
       "      vegaEmbed(outputDiv, spec, embedOpt)\n",
       "        .catch(err => showError(`Javascript Error: ${err.message}<br>This usually means there's a typo in your chart specification. See the javascript console for the full traceback.`));\n",
       "    }\n",
       "\n",
       "    if(typeof define === \"function\" && define.amd) {\n",
       "      requirejs.config({paths});\n",
       "      require([\"vega-embed\"], displayChart, err => showError(`Error loading script: ${err.message}`));\n",
       "    } else {\n",
       "      maybeLoadScript(\"vega\", \"5\")\n",
       "        .then(() => maybeLoadScript(\"vega-lite\", \"5.8.0\"))\n",
       "        .then(() => maybeLoadScript(\"vega-embed\", \"6\"))\n",
       "        .catch(showError)\n",
       "        .then(() => displayChart(vegaEmbed));\n",
       "    }\n",
       "  })({\"config\": {\"view\": {\"continuousWidth\": 300, \"continuousHeight\": 300}}, \"layer\": [{\"data\": {\"sequence\": {\"start\": 0, \"stop\": 10, \"as\": \"a\"}, \"name\": \"tile_list\"}, \"mark\": {\"type\": \"image\", \"clip\": true, \"height\": {\"expr\": \"tile_size + 1\"}, \"width\": {\"expr\": \"tile_size + 1\"}}, \"encoding\": {\"url\": {\"field\": \"url\", \"type\": \"nominal\"}, \"x\": {\"field\": \"x\", \"scale\": null, \"type\": \"quantitative\"}, \"y\": {\"field\": \"y\", \"scale\": null, \"type\": \"quantitative\"}}, \"transform\": [{\"calculate\": \"sequence(0, 10)\", \"as\": \"b\"}, {\"flatten\": [\"b\"]}, {\"calculate\": \"'https://a.basemaps.cartocdn.com/light_all/' + zoom_ceil + '/' + ((datum.a + dii_floor + tiles_count) % tiles_count) + '/' + (datum.b + djj_floor) + '.png'\", \"as\": \"url\"}, {\"calculate\": \"datum.a * tile_size + dx + (tile_size / 2)\", \"as\": \"x\"}, {\"calculate\": \"datum.b * tile_size + dy + (tile_size / 2)\", \"as\": \"y\"}]}, {\"data\": {\"url\": \"https://cdn.jsdelivr.net/npm/vega-datasets@v1.29.0/data/world-110m.json\", \"format\": {\"feature\": \"countries\", \"type\": \"topojson\"}}, \"mark\": {\"type\": \"geoshape\", \"fillOpacity\": 0.1, \"stroke\": \"orange\", \"strokeWidth\": 2}, \"encoding\": {\"fill\": {\"field\": \"id\", \"legend\": null, \"type\": \"quantitative\"}}, \"projection\": {\"center\": [0, 50], \"rotate\": [-10, 0, 0], \"scale\": 400, \"type\": \"mercator\"}}], \"height\": 600, \"params\": [{\"name\": \"base_tile_size\", \"value\": 256}, {\"name\": \"pr_scale\", \"expr\": \"400\"}, {\"name\": \"zoom_level\", \"expr\": \"log((2 * PI * pr_scale) / base_tile_size) / log(2)\"}, {\"name\": \"zoom_ceil\", \"expr\": \"ceil(zoom_level)\"}, {\"name\": \"tiles_count\", \"expr\": \"pow(2, zoom_ceil)\"}, {\"name\": \"tile_size\", \"expr\": \"base_tile_size * pow(2, zoom_level - zoom_ceil)\"}, {\"name\": \"base_point\", \"expr\": \"invert('projection', [0, 0])\"}, {\"name\": \"dii\", \"expr\": \"(base_point[0] + 180) / 360 * tiles_count\"}, {\"name\": \"dii_floor\", \"expr\": \"floor(dii)\"}, {\"name\": \"dx\", \"expr\": \"(dii_floor - dii) * tile_size\"}, {\"name\": \"djj\", \"expr\": \"(1 - log(tan(base_point[1] * PI / 180) + 1 / cos(base_point[1] * PI / 180)) / PI) / 2 * tiles_count\"}, {\"name\": \"djj_floor\", \"expr\": \"floor(djj)\"}, {\"name\": \"dy\", \"expr\": \"round((djj_floor - djj) * tile_size)\"}], \"width\": 600, \"$schema\": \"https://vega.github.io/schema/vega-lite/v5.8.0.json\"}, {\"mode\": \"vega-lite\"});\n",
       "</script>"
      ],
      "text/plain": [
       "alt.LayerChart(...)"
      ]
     },
     "execution_count": 6,
     "metadata": {},
     "output_type": "execute_result"
    }
   ],
   "source": [
    "abm.add_basemap(geoshape_countries, source=abm.providers.CartoDB.Positron)"
   ]
  },
  {
   "attachments": {},
   "cell_type": "markdown",
   "metadata": {},
   "source": [
    "Zoom in on Los Angeles"
   ]
  },
  {
   "cell_type": "code",
   "execution_count": 7,
   "metadata": {},
   "outputs": [
    {
     "data": {
      "text/html": [
       "\n",
       "<style>\n",
       "  #altair-viz-4321e208a78c4f6cb3ab5704186e39dc.vega-embed {\n",
       "    width: 100%;\n",
       "    display: flex;\n",
       "  }\n",
       "\n",
       "  #altair-viz-4321e208a78c4f6cb3ab5704186e39dc.vega-embed details,\n",
       "  #altair-viz-4321e208a78c4f6cb3ab5704186e39dc.vega-embed details summary {\n",
       "    position: relative;\n",
       "  }\n",
       "</style>\n",
       "<div id=\"altair-viz-4321e208a78c4f6cb3ab5704186e39dc\"></div>\n",
       "<script type=\"text/javascript\">\n",
       "  var VEGA_DEBUG = (typeof VEGA_DEBUG == \"undefined\") ? {} : VEGA_DEBUG;\n",
       "  (function(spec, embedOpt){\n",
       "    let outputDiv = document.currentScript.previousElementSibling;\n",
       "    if (outputDiv.id !== \"altair-viz-4321e208a78c4f6cb3ab5704186e39dc\") {\n",
       "      outputDiv = document.getElementById(\"altair-viz-4321e208a78c4f6cb3ab5704186e39dc\");\n",
       "    }\n",
       "    const paths = {\n",
       "      \"vega\": \"https://cdn.jsdelivr.net/npm/vega@5?noext\",\n",
       "      \"vega-lib\": \"https://cdn.jsdelivr.net/npm/vega-lib?noext\",\n",
       "      \"vega-lite\": \"https://cdn.jsdelivr.net/npm/vega-lite@5.8.0?noext\",\n",
       "      \"vega-embed\": \"https://cdn.jsdelivr.net/npm/vega-embed@6?noext\",\n",
       "    };\n",
       "\n",
       "    function maybeLoadScript(lib, version) {\n",
       "      var key = `${lib.replace(\"-\", \"\")}_version`;\n",
       "      return (VEGA_DEBUG[key] == version) ?\n",
       "        Promise.resolve(paths[lib]) :\n",
       "        new Promise(function(resolve, reject) {\n",
       "          var s = document.createElement('script');\n",
       "          document.getElementsByTagName(\"head\")[0].appendChild(s);\n",
       "          s.async = true;\n",
       "          s.onload = () => {\n",
       "            VEGA_DEBUG[key] = version;\n",
       "            return resolve(paths[lib]);\n",
       "          };\n",
       "          s.onerror = () => reject(`Error loading script: ${paths[lib]}`);\n",
       "          s.src = paths[lib];\n",
       "        });\n",
       "    }\n",
       "\n",
       "    function showError(err) {\n",
       "      outputDiv.innerHTML = `<div class=\"error\" style=\"color:red;\">${err}</div>`;\n",
       "      throw err;\n",
       "    }\n",
       "\n",
       "    function displayChart(vegaEmbed) {\n",
       "      vegaEmbed(outputDiv, spec, embedOpt)\n",
       "        .catch(err => showError(`Javascript Error: ${err.message}<br>This usually means there's a typo in your chart specification. See the javascript console for the full traceback.`));\n",
       "    }\n",
       "\n",
       "    if(typeof define === \"function\" && define.amd) {\n",
       "      requirejs.config({paths});\n",
       "      require([\"vega-embed\"], displayChart, err => showError(`Error loading script: ${err.message}`));\n",
       "    } else {\n",
       "      maybeLoadScript(\"vega\", \"5\")\n",
       "        .then(() => maybeLoadScript(\"vega-lite\", \"5.8.0\"))\n",
       "        .then(() => maybeLoadScript(\"vega-embed\", \"6\"))\n",
       "        .catch(showError)\n",
       "        .then(() => displayChart(vegaEmbed));\n",
       "    }\n",
       "  })({\"config\": {\"view\": {\"continuousWidth\": 300, \"continuousHeight\": 300}}, \"layer\": [{\"data\": {\"sequence\": {\"start\": 0, \"stop\": 10, \"as\": \"a\"}, \"name\": \"tile_list\"}, \"mark\": {\"type\": \"image\", \"clip\": true, \"height\": {\"expr\": \"tile_size + 1\"}, \"width\": {\"expr\": \"tile_size + 1\"}}, \"encoding\": {\"url\": {\"field\": \"url\", \"type\": \"nominal\"}, \"x\": {\"field\": \"x\", \"scale\": null, \"type\": \"quantitative\"}, \"y\": {\"field\": \"y\", \"scale\": null, \"type\": \"quantitative\"}}, \"transform\": [{\"calculate\": \"sequence(0, 10)\", \"as\": \"b\"}, {\"flatten\": [\"b\"]}, {\"calculate\": \"'https://tile.openstreetmap.org/' + zoom_ceil + '/' + ((datum.a + dii_floor + tiles_count) % tiles_count) + '/' + (datum.b + djj_floor) + '.png'\", \"as\": \"url\"}, {\"calculate\": \"datum.a * tile_size + dx + (tile_size / 2)\", \"as\": \"x\"}, {\"calculate\": \"datum.b * tile_size + dy + (tile_size / 2)\", \"as\": \"y\"}]}, {\"data\": {\"url\": \"https://cdn.jsdelivr.net/npm/vega-datasets@v1.29.0/data/world-110m.json\", \"format\": {\"feature\": \"countries\", \"type\": \"topojson\"}}, \"mark\": {\"type\": \"geoshape\", \"fillOpacity\": 0.1, \"stroke\": \"orange\", \"strokeWidth\": 2}, \"encoding\": {\"fill\": {\"field\": \"id\", \"legend\": null, \"type\": \"quantitative\"}}, \"projection\": {\"center\": [-118.2, 33.9], \"scale\": 70000, \"type\": \"mercator\"}}], \"height\": 600, \"params\": [{\"name\": \"base_tile_size\", \"value\": 256}, {\"name\": \"pr_scale\", \"expr\": \"70000\"}, {\"name\": \"zoom_level\", \"expr\": \"log((2 * PI * pr_scale) / base_tile_size) / log(2)\"}, {\"name\": \"zoom_ceil\", \"expr\": \"ceil(zoom_level)\"}, {\"name\": \"tiles_count\", \"expr\": \"pow(2, zoom_ceil)\"}, {\"name\": \"tile_size\", \"expr\": \"base_tile_size * pow(2, zoom_level - zoom_ceil)\"}, {\"name\": \"base_point\", \"expr\": \"invert('projection', [0, 0])\"}, {\"name\": \"dii\", \"expr\": \"(base_point[0] + 180) / 360 * tiles_count\"}, {\"name\": \"dii_floor\", \"expr\": \"floor(dii)\"}, {\"name\": \"dx\", \"expr\": \"(dii_floor - dii) * tile_size\"}, {\"name\": \"djj\", \"expr\": \"(1 - log(tan(base_point[1] * PI / 180) + 1 / cos(base_point[1] * PI / 180)) / PI) / 2 * tiles_count\"}, {\"name\": \"djj_floor\", \"expr\": \"floor(djj)\"}, {\"name\": \"dy\", \"expr\": \"round((djj_floor - djj) * tile_size)\"}], \"width\": 600, \"$schema\": \"https://vega.github.io/schema/vega-lite/v5.8.0.json\"}, {\"mode\": \"vega-lite\"});\n",
       "</script>"
      ],
      "text/plain": [
       "alt.LayerChart(...)"
      ]
     },
     "execution_count": 7,
     "metadata": {},
     "output_type": "execute_result"
    }
   ],
   "source": [
    "abm.add_basemap(\n",
    "    geoshape_countries.project(\n",
    "        type=\"mercator\", scale=70_000, center=[-118.2, 33.9]\n",
    "    )\n",
    ")\n"
   ]
  },
  {
   "cell_type": "code",
   "execution_count": null,
   "metadata": {},
   "outputs": [],
   "source": []
  }
 ],
 "metadata": {
  "kernelspec": {
   "display_name": ".venv",
   "language": "python",
   "name": "python3"
  },
  "language_info": {
   "codemirror_mode": {
    "name": "ipython",
    "version": 3
   },
   "file_extension": ".py",
   "mimetype": "text/x-python",
   "name": "python",
   "nbconvert_exporter": "python",
   "pygments_lexer": "ipython3",
   "version": "3.10.8"
  },
  "orig_nbformat": 4
 },
 "nbformat": 4,
 "nbformat_minor": 2
}
