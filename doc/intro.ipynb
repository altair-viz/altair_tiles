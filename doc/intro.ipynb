{
 "cells": [
  {
   "attachments": {},
   "cell_type": "markdown",
   "metadata": {},
   "source": [
    "# Introduction\n",
    "This package is in an **early development stage**. Use it with care and you should expect things to break unannounced until we release a version `1.0.0`.\n",
    "\n",
    "You can use altair_tiles to add tiles from any xyz tile provider such as OpenStreetMap to your Altair chart. The goal is to build a counterpart to the amazing [contextily](https://github.com/geopandas/contextily) package which provides this functionality for [matplotlib](https://matplotlib.org/).\n",
    "\n",
    "For a general introduction to plotting geographic data with Altair, see [Geoshape - Vega-Altair](https://altair-viz.github.io/user_guide/marks/geoshape.html) and [Specifying Data - Vega-Altair](https://altair-viz.github.io/user_guide/data.html#spatial-data).\n",
    "\n",
    "## Installation\n",
    "We have not yet published the package on pypi but you can install it from GitHub with:\n",
    "\n",
    "```bash\n",
    "pip install git+https://github.com/altair-viz/altair_tiles.git\n",
    "```\n"
   ]
  },
  {
   "attachments": {},
   "cell_type": "markdown",
   "metadata": {},
   "source": [
    "## Basic example\n"
   ]
  },
  {
   "cell_type": "code",
   "execution_count": 1,
   "metadata": {},
   "outputs": [],
   "source": [
    "import altair as alt\n",
    "import altair_tiles as til"
   ]
  },
  {
   "cell_type": "code",
   "execution_count": 2,
   "metadata": {},
   "outputs": [
    {
     "data": {
      "text/html": [
       "\n",
       "<style>\n",
       "  #altair-viz-96a33200559642b98a4a1ee62b65c8f4.vega-embed {\n",
       "    width: 100%;\n",
       "    display: flex;\n",
       "  }\n",
       "\n",
       "  #altair-viz-96a33200559642b98a4a1ee62b65c8f4.vega-embed details,\n",
       "  #altair-viz-96a33200559642b98a4a1ee62b65c8f4.vega-embed details summary {\n",
       "    position: relative;\n",
       "  }\n",
       "</style>\n",
       "<div id=\"altair-viz-96a33200559642b98a4a1ee62b65c8f4\"></div>\n",
       "<script type=\"text/javascript\">\n",
       "  var VEGA_DEBUG = (typeof VEGA_DEBUG == \"undefined\") ? {} : VEGA_DEBUG;\n",
       "  (function(spec, embedOpt){\n",
       "    let outputDiv = document.currentScript.previousElementSibling;\n",
       "    if (outputDiv.id !== \"altair-viz-96a33200559642b98a4a1ee62b65c8f4\") {\n",
       "      outputDiv = document.getElementById(\"altair-viz-96a33200559642b98a4a1ee62b65c8f4\");\n",
       "    }\n",
       "    const paths = {\n",
       "      \"vega\": \"https://cdn.jsdelivr.net/npm/vega@5?noext\",\n",
       "      \"vega-lib\": \"https://cdn.jsdelivr.net/npm/vega-lib?noext\",\n",
       "      \"vega-lite\": \"https://cdn.jsdelivr.net/npm/vega-lite@5.8.0?noext\",\n",
       "      \"vega-embed\": \"https://cdn.jsdelivr.net/npm/vega-embed@6?noext\",\n",
       "    };\n",
       "\n",
       "    function maybeLoadScript(lib, version) {\n",
       "      var key = `${lib.replace(\"-\", \"\")}_version`;\n",
       "      return (VEGA_DEBUG[key] == version) ?\n",
       "        Promise.resolve(paths[lib]) :\n",
       "        new Promise(function(resolve, reject) {\n",
       "          var s = document.createElement('script');\n",
       "          document.getElementsByTagName(\"head\")[0].appendChild(s);\n",
       "          s.async = true;\n",
       "          s.onload = () => {\n",
       "            VEGA_DEBUG[key] = version;\n",
       "            return resolve(paths[lib]);\n",
       "          };\n",
       "          s.onerror = () => reject(`Error loading script: ${paths[lib]}`);\n",
       "          s.src = paths[lib];\n",
       "        });\n",
       "    }\n",
       "\n",
       "    function showError(err) {\n",
       "      outputDiv.innerHTML = `<div class=\"error\" style=\"color:red;\">${err}</div>`;\n",
       "      throw err;\n",
       "    }\n",
       "\n",
       "    function displayChart(vegaEmbed) {\n",
       "      vegaEmbed(outputDiv, spec, embedOpt)\n",
       "        .catch(err => showError(`Javascript Error: ${err.message}<br>This usually means there's a typo in your chart specification. See the javascript console for the full traceback.`));\n",
       "    }\n",
       "\n",
       "    if(typeof define === \"function\" && define.amd) {\n",
       "      requirejs.config({paths});\n",
       "      require([\"vega-embed\"], displayChart, err => showError(`Error loading script: ${err.message}`));\n",
       "    } else {\n",
       "      maybeLoadScript(\"vega\", \"5\")\n",
       "        .then(() => maybeLoadScript(\"vega-lite\", \"5.8.0\"))\n",
       "        .then(() => maybeLoadScript(\"vega-embed\", \"6\"))\n",
       "        .catch(showError)\n",
       "        .then(() => displayChart(vegaEmbed));\n",
       "    }\n",
       "  })({\"config\": {\"view\": {\"continuousWidth\": 300, \"continuousHeight\": 300}}, \"layer\": [{\"data\": {\"sequence\": {\"start\": 0, \"stop\": 10, \"as\": \"a\"}, \"name\": \"tile_list\"}, \"mark\": {\"type\": \"image\", \"clip\": true, \"height\": {\"expr\": \"tile_size + 1\"}, \"width\": {\"expr\": \"tile_size + 1\"}}, \"encoding\": {\"url\": {\"field\": \"url\", \"type\": \"nominal\"}, \"x\": {\"field\": \"x\", \"scale\": null, \"type\": \"quantitative\"}, \"y\": {\"field\": \"y\", \"scale\": null, \"type\": \"quantitative\"}}, \"projection\": {\"center\": [0, 50], \"rotate\": [-10, 0, 0], \"scale\": 300, \"type\": \"mercator\"}, \"transform\": [{\"calculate\": \"sequence(0, 10)\", \"as\": \"b\"}, {\"flatten\": [\"b\"]}, {\"calculate\": \"'https://tile.openstreetmap.org/' + zoom_ceil + '/' + ((datum.a + dii_floor + tiles_count) % tiles_count) + '/' + (datum.b + djj_floor) + '.png'\", \"as\": \"url\"}, {\"calculate\": \"datum.a * tile_size + dx + (tile_size / 2)\", \"as\": \"x\"}, {\"calculate\": \"datum.b * tile_size + dy + (tile_size / 2)\", \"as\": \"y\"}, {\"filter\": \"((datum.a + dii_floor + tiles_count) % tiles_count) >= 0 && (datum.b + djj_floor) >= 0 && ((datum.a + dii_floor + tiles_count) % tiles_count) <= tiles_count && (datum.b + djj_floor) <= tiles_count\"}]}, {\"data\": {\"url\": \"https://cdn.jsdelivr.net/npm/vega-datasets@v1.29.0/data/world-110m.json\", \"format\": {\"feature\": \"countries\", \"type\": \"topojson\"}}, \"mark\": {\"type\": \"geoshape\", \"fillOpacity\": 0.1, \"stroke\": \"orange\", \"strokeWidth\": 2}, \"encoding\": {\"fill\": {\"field\": \"id\", \"legend\": null, \"type\": \"quantitative\"}}, \"projection\": {\"center\": [0, 50], \"rotate\": [-10, 0, 0], \"scale\": 300, \"type\": \"mercator\"}}, {\"data\": {\"name\": \"empty\"}, \"mark\": {\"type\": \"text\", \"align\": \"left\", \"dx\": 3, \"dy\": -8, \"text\": \"(C) OpenStreetMap contributors\"}, \"encoding\": {\"x\": {\"value\": 0}, \"y\": {\"value\": {\"expr\": \"height\"}}}}], \"height\": 600, \"params\": [{\"name\": \"base_tile_size\", \"value\": 256}, {\"name\": \"pr_scale\", \"expr\": \"300\"}, {\"name\": \"zoom_level\", \"expr\": \"log((2 * PI * pr_scale) / base_tile_size) / log(2)\"}, {\"name\": \"zoom_ceil\", \"expr\": \"ceil(zoom_level)\"}, {\"name\": \"tiles_count\", \"expr\": \"pow(2, zoom_ceil)\"}, {\"name\": \"tile_size\", \"expr\": \"base_tile_size * pow(2, zoom_level - zoom_ceil)\"}, {\"name\": \"base_point\", \"expr\": \"invert('projection', [0, 0])\"}, {\"name\": \"dii\", \"expr\": \"(base_point[0] + 180) / 360 * tiles_count\"}, {\"name\": \"dii_floor\", \"expr\": \"floor(dii)\"}, {\"name\": \"dx\", \"expr\": \"(dii_floor - dii) * tile_size\"}, {\"name\": \"djj\", \"expr\": \"(1 - log(tan(base_point[1] * PI / 180) + 1 / cos(base_point[1] * PI / 180)) / PI) / 2 * tiles_count\"}, {\"name\": \"djj_floor\", \"expr\": \"floor(djj)\"}, {\"name\": \"dy\", \"expr\": \"round((djj_floor - djj) * tile_size)\"}], \"width\": 600, \"$schema\": \"https://vega.github.io/schema/vega-lite/v5.8.0.json\", \"datasets\": {\"empty\": [{}]}}, {\"mode\": \"vega-lite\"});\n",
       "</script>"
      ],
      "text/plain": [
       "alt.LayerChart(...)"
      ]
     },
     "execution_count": 2,
     "metadata": {},
     "output_type": "execute_result"
    }
   ],
   "source": [
    "source = alt.topo_feature(\"https://cdn.jsdelivr.net/npm/vega-datasets@v1.29.0/data/world-110m.json\", \"countries\")\n",
    "\n",
    "geoshape_countries = (\n",
    "    alt.Chart(source, width=600, height=600)\n",
    "    .mark_geoshape(\n",
    "        stroke=\"orange\", \n",
    "        strokeWidth=2, \n",
    "        fillOpacity=0.1\n",
    "    )\n",
    "    .encode(fill=alt.Fill(\"id:Q\").legend(None))\n",
    "    .project(\n",
    "        type=\"mercator\",\n",
    "        scale=300,\n",
    "        center=[0, 50],\n",
    "        rotate=[-10, 0, 0]\n",
    "    )\n",
    "\n",
    ")\n",
    "til.add_tiles(geoshape_countries)"
   ]
  }
 ],
 "metadata": {
  "kernelspec": {
   "display_name": ".venv",
   "language": "python",
   "name": "python3"
  },
  "language_info": {
   "codemirror_mode": {
    "name": "ipython",
    "version": 3
   },
   "file_extension": ".py",
   "mimetype": "text/x-python",
   "name": "python",
   "nbconvert_exporter": "python",
   "pygments_lexer": "ipython3",
   "version": "3.10.8"
  },
  "orig_nbformat": 4
 },
 "nbformat": 4,
 "nbformat_minor": 2
}
