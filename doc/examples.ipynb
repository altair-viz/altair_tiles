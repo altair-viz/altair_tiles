{
 "cells": [
  {
   "attachments": {},
   "cell_type": "markdown",
   "metadata": {},
   "source": [
    "# Examples\n",
    "Some examples showcasing what you can currently do with `altair_tiles`."
   ]
  },
  {
   "cell_type": "code",
   "execution_count": null,
   "metadata": {},
   "outputs": [],
   "source": [
    "import altair as alt\n",
    "import altair_tiles as til"
   ]
  },
  {
   "attachments": {},
   "cell_type": "markdown",
   "metadata": {},
   "source": [
    "# The basics"
   ]
  },
  {
   "attachments": {},
   "cell_type": "markdown",
   "metadata": {},
   "source": [
    "Let's first create a geoshape chart:"
   ]
  },
  {
   "cell_type": "code",
   "execution_count": null,
   "metadata": {},
   "outputs": [],
   "source": [
    "source = alt.topo_feature(\"https://cdn.jsdelivr.net/npm/vega-datasets@v1.29.0/data/world-110m.json\", \"countries\")\n",
    "\n",
    "geoshape_countries = (\n",
    "    alt.Chart(source, width=600, height=600)\n",
    "    .mark_geoshape(\n",
    "        stroke=\"orange\", \n",
    "        strokeWidth=2, \n",
    "        fillOpacity=0.1\n",
    "    )\n",
    "    .encode(fill=alt.Fill(\"id:Q\").legend(None))\n",
    "    .project(\n",
    "        type=\"mercator\",\n",
    "        scale=400,\n",
    "        center=[0, 50],\n",
    "        rotate=[-10, 0, 0]\n",
    "    )\n",
    "\n",
    ")\n",
    "geoshape_countries"
   ]
  },
  {
   "attachments": {},
   "cell_type": "markdown",
   "metadata": {},
   "source": [
    "Now you can add lines by running:"
   ]
  },
  {
   "cell_type": "code",
   "execution_count": null,
   "metadata": {},
   "outputs": [],
   "source": [
    "til.add_tiles(geoshape_countries)"
   ]
  },
  {
   "attachments": {},
   "cell_type": "markdown",
   "metadata": {},
   "source": [
    "By default `altair_tiles` infers an appropriate zoom level for the tiles. However, you can specify it yourself. By specifying `zoom=3` we get tiles which show less details:"
   ]
  },
  {
   "cell_type": "code",
   "execution_count": null,
   "metadata": {},
   "outputs": [],
   "source": [
    "til.add_tiles(geoshape_countries, zoom=3)"
   ]
  },
  {
   "attachments": {},
   "cell_type": "markdown",
   "metadata": {},
   "source": [
    "If we increase `zoom` to `5` we see more details in the tiles:"
   ]
  },
  {
   "cell_type": "code",
   "execution_count": null,
   "metadata": {},
   "outputs": [],
   "source": [
    "til.add_tiles(geoshape_countries, zoom=5)"
   ]
  },
  {
   "attachments": {},
   "cell_type": "markdown",
   "metadata": {},
   "source": [
    "Use a different tile provider. Providers are coming from `xyzservices` and can be accessed via `abm.providers` or `xyzservices.providers`."
   ]
  },
  {
   "cell_type": "code",
   "execution_count": null,
   "metadata": {},
   "outputs": [],
   "source": [
    "til.add_tiles(geoshape_countries, provider=til.providers.CartoDB.Positron)"
   ]
  },
  {
   "attachments": {},
   "cell_type": "markdown",
   "metadata": {},
   "source": [
    "Zoom in on Los Angeles"
   ]
  },
  {
   "cell_type": "code",
   "execution_count": null,
   "metadata": {},
   "outputs": [],
   "source": [
    "til.add_tiles(\n",
    "    geoshape_countries.project(\n",
    "        type=\"mercator\", scale=70_000, center=[-118.2, 33.9]\n",
    "    )\n",
    ")\n"
   ]
  },
  {
   "attachments": {},
   "cell_type": "markdown",
   "metadata": {},
   "source": [
    "# Create individual tiles chart"
   ]
  },
  {
   "cell_type": "code",
   "execution_count": null,
   "metadata": {},
   "outputs": [],
   "source": [
    "til.create_tiles_chart(geoshape_countries.projection)"
   ]
  },
  {
   "cell_type": "code",
   "execution_count": null,
   "metadata": {},
   "outputs": [],
   "source": [
    "standalone_tiles_chart = til.create_tiles_chart(geoshape_countries.projection)\n",
    "standalone_tiles_chart"
   ]
  },
  {
   "cell_type": "code",
   "execution_count": null,
   "metadata": {},
   "outputs": [],
   "source": [
    "standalone_tiles_chart.properties(width=500, height=500)"
   ]
  },
  {
   "cell_type": "code",
   "execution_count": null,
   "metadata": {},
   "outputs": [],
   "source": [
    "c2 = standalone_tiles_chart + geoshape_countries\n",
    "c2"
   ]
  },
  {
   "attachments": {},
   "cell_type": "markdown",
   "metadata": {},
   "source": [
    "Same but with attribution layered on top so that it is not hidden"
   ]
  },
  {
   "cell_type": "code",
   "execution_count": null,
   "metadata": {},
   "outputs": [],
   "source": [
    "c3 = til.add_attribution(\n",
    "    til.create_tiles_chart(geoshape_countries.projection, attribution=False)\n",
    "    + geoshape_countries\n",
    ")\n",
    "c3"
   ]
  },
  {
   "attachments": {},
   "cell_type": "markdown",
   "metadata": {},
   "source": [
    "Has 4 layers with one of them being an empty geoshape mark which was added in create_tiles_chart. Can use the `standalone` flag to not include it. This is useful if the tiles are not used as a standalone chart but are part of a more complex chart which already contains a geoshape mark."
   ]
  },
  {
   "cell_type": "code",
   "execution_count": null,
   "metadata": {},
   "outputs": [],
   "source": [
    "c3.layer"
   ]
  },
  {
   "cell_type": "code",
   "execution_count": null,
   "metadata": {},
   "outputs": [],
   "source": [
    "c3_3layers = til.add_attribution(\n",
    "    til.create_tiles_chart(geoshape_countries.projection, attribution=False, standalone=False)\n",
    "    + geoshape_countries\n",
    ")\n",
    "c3_3layers"
   ]
  },
  {
   "cell_type": "code",
   "execution_count": null,
   "metadata": {},
   "outputs": [],
   "source": [
    "c3_3layers.layer"
   ]
  },
  {
   "attachments": {},
   "cell_type": "markdown",
   "metadata": {},
   "source": [
    "Change zoom"
   ]
  },
  {
   "cell_type": "code",
   "execution_count": null,
   "metadata": {},
   "outputs": [],
   "source": [
    "til.create_tiles_chart(geoshape_countries.projection, zoom=3) + geoshape_countries"
   ]
  },
  {
   "cell_type": "code",
   "execution_count": null,
   "metadata": {},
   "outputs": [],
   "source": []
  }
 ],
 "metadata": {
  "kernelspec": {
   "display_name": ".venv",
   "language": "python",
   "name": "python3"
  },
  "language_info": {
   "codemirror_mode": {
    "name": "ipython",
    "version": 3
   },
   "file_extension": ".py",
   "mimetype": "text/x-python",
   "name": "python",
   "nbconvert_exporter": "python",
   "pygments_lexer": "ipython3",
   "version": "3.10.8"
  },
  "orig_nbformat": 4
 },
 "nbformat": 4,
 "nbformat_minor": 2
}
