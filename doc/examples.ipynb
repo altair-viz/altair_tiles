{
 "cells": [
  {
   "attachments": {},
   "cell_type": "markdown",
   "metadata": {},
   "source": [
    "# Examples\n",
    "Some examples showcasing what you can currently do with `altair_tiles`."
   ]
  },
  {
   "cell_type": "code",
   "execution_count": 1,
   "metadata": {},
   "outputs": [],
   "source": [
    "import altair as alt\n",
    "import altair_tiles as til"
   ]
  },
  {
   "attachments": {},
   "cell_type": "markdown",
   "metadata": {},
   "source": [
    "# The basics"
   ]
  },
  {
   "attachments": {},
   "cell_type": "markdown",
   "metadata": {},
   "source": [
    "Let's first create a geoshape chart:"
   ]
  },
  {
   "cell_type": "code",
   "execution_count": 2,
   "metadata": {},
   "outputs": [
    {
     "data": {
      "text/html": [
       "\n",
       "<style>\n",
       "  #altair-viz-b77621b4dc1140159faf10936b5bd947.vega-embed {\n",
       "    width: 100%;\n",
       "    display: flex;\n",
       "  }\n",
       "\n",
       "  #altair-viz-b77621b4dc1140159faf10936b5bd947.vega-embed details,\n",
       "  #altair-viz-b77621b4dc1140159faf10936b5bd947.vega-embed details summary {\n",
       "    position: relative;\n",
       "  }\n",
       "</style>\n",
       "<div id=\"altair-viz-b77621b4dc1140159faf10936b5bd947\"></div>\n",
       "<script type=\"text/javascript\">\n",
       "  var VEGA_DEBUG = (typeof VEGA_DEBUG == \"undefined\") ? {} : VEGA_DEBUG;\n",
       "  (function(spec, embedOpt){\n",
       "    let outputDiv = document.currentScript.previousElementSibling;\n",
       "    if (outputDiv.id !== \"altair-viz-b77621b4dc1140159faf10936b5bd947\") {\n",
       "      outputDiv = document.getElementById(\"altair-viz-b77621b4dc1140159faf10936b5bd947\");\n",
       "    }\n",
       "    const paths = {\n",
       "      \"vega\": \"https://cdn.jsdelivr.net/npm/vega@5?noext\",\n",
       "      \"vega-lib\": \"https://cdn.jsdelivr.net/npm/vega-lib?noext\",\n",
       "      \"vega-lite\": \"https://cdn.jsdelivr.net/npm/vega-lite@5.8.0?noext\",\n",
       "      \"vega-embed\": \"https://cdn.jsdelivr.net/npm/vega-embed@6?noext\",\n",
       "    };\n",
       "\n",
       "    function maybeLoadScript(lib, version) {\n",
       "      var key = `${lib.replace(\"-\", \"\")}_version`;\n",
       "      return (VEGA_DEBUG[key] == version) ?\n",
       "        Promise.resolve(paths[lib]) :\n",
       "        new Promise(function(resolve, reject) {\n",
       "          var s = document.createElement('script');\n",
       "          document.getElementsByTagName(\"head\")[0].appendChild(s);\n",
       "          s.async = true;\n",
       "          s.onload = () => {\n",
       "            VEGA_DEBUG[key] = version;\n",
       "            return resolve(paths[lib]);\n",
       "          };\n",
       "          s.onerror = () => reject(`Error loading script: ${paths[lib]}`);\n",
       "          s.src = paths[lib];\n",
       "        });\n",
       "    }\n",
       "\n",
       "    function showError(err) {\n",
       "      outputDiv.innerHTML = `<div class=\"error\" style=\"color:red;\">${err}</div>`;\n",
       "      throw err;\n",
       "    }\n",
       "\n",
       "    function displayChart(vegaEmbed) {\n",
       "      vegaEmbed(outputDiv, spec, embedOpt)\n",
       "        .catch(err => showError(`Javascript Error: ${err.message}<br>This usually means there's a typo in your chart specification. See the javascript console for the full traceback.`));\n",
       "    }\n",
       "\n",
       "    if(typeof define === \"function\" && define.amd) {\n",
       "      requirejs.config({paths});\n",
       "      require([\"vega-embed\"], displayChart, err => showError(`Error loading script: ${err.message}`));\n",
       "    } else {\n",
       "      maybeLoadScript(\"vega\", \"5\")\n",
       "        .then(() => maybeLoadScript(\"vega-lite\", \"5.8.0\"))\n",
       "        .then(() => maybeLoadScript(\"vega-embed\", \"6\"))\n",
       "        .catch(showError)\n",
       "        .then(() => displayChart(vegaEmbed));\n",
       "    }\n",
       "  })({\"config\": {\"view\": {\"continuousWidth\": 300, \"continuousHeight\": 300}}, \"data\": {\"url\": \"https://cdn.jsdelivr.net/npm/vega-datasets@v1.29.0/data/world-110m.json\", \"format\": {\"feature\": \"countries\", \"type\": \"topojson\"}}, \"mark\": {\"type\": \"geoshape\", \"fillOpacity\": 0.1, \"stroke\": \"orange\", \"strokeWidth\": 2}, \"encoding\": {\"fill\": {\"field\": \"id\", \"legend\": null, \"type\": \"quantitative\"}}, \"height\": 600, \"projection\": {\"center\": [0, 50], \"rotate\": [-10, 0, 0], \"scale\": 400, \"type\": \"mercator\"}, \"width\": 600, \"$schema\": \"https://vega.github.io/schema/vega-lite/v5.8.0.json\"}, {\"mode\": \"vega-lite\"});\n",
       "</script>"
      ],
      "text/plain": [
       "alt.Chart(...)"
      ]
     },
     "execution_count": 2,
     "metadata": {},
     "output_type": "execute_result"
    }
   ],
   "source": [
    "source = alt.topo_feature(\"https://cdn.jsdelivr.net/npm/vega-datasets@v1.29.0/data/world-110m.json\", \"countries\")\n",
    "\n",
    "geoshape_countries = (\n",
    "    alt.Chart(source, width=600, height=600)\n",
    "    .mark_geoshape(\n",
    "        stroke=\"orange\", \n",
    "        strokeWidth=2, \n",
    "        fillOpacity=0.1\n",
    "    )\n",
    "    .encode(fill=alt.Fill(\"id:Q\").legend(None))\n",
    "    .project(\n",
    "        type=\"mercator\",\n",
    "        scale=400,\n",
    "        center=[0, 50],\n",
    "        rotate=[-10, 0, 0]\n",
    "    )\n",
    "\n",
    ")\n",
    "geoshape_countries"
   ]
  },
  {
   "attachments": {},
   "cell_type": "markdown",
   "metadata": {},
   "source": [
    "Now you can add lines by running:"
   ]
  },
  {
   "cell_type": "code",
   "execution_count": 3,
   "metadata": {},
   "outputs": [
    {
     "data": {
      "text/html": [
       "\n",
       "<style>\n",
       "  #altair-viz-4437838fdad447a9924e04c4cc8a5d8f.vega-embed {\n",
       "    width: 100%;\n",
       "    display: flex;\n",
       "  }\n",
       "\n",
       "  #altair-viz-4437838fdad447a9924e04c4cc8a5d8f.vega-embed details,\n",
       "  #altair-viz-4437838fdad447a9924e04c4cc8a5d8f.vega-embed details summary {\n",
       "    position: relative;\n",
       "  }\n",
       "</style>\n",
       "<div id=\"altair-viz-4437838fdad447a9924e04c4cc8a5d8f\"></div>\n",
       "<script type=\"text/javascript\">\n",
       "  var VEGA_DEBUG = (typeof VEGA_DEBUG == \"undefined\") ? {} : VEGA_DEBUG;\n",
       "  (function(spec, embedOpt){\n",
       "    let outputDiv = document.currentScript.previousElementSibling;\n",
       "    if (outputDiv.id !== \"altair-viz-4437838fdad447a9924e04c4cc8a5d8f\") {\n",
       "      outputDiv = document.getElementById(\"altair-viz-4437838fdad447a9924e04c4cc8a5d8f\");\n",
       "    }\n",
       "    const paths = {\n",
       "      \"vega\": \"https://cdn.jsdelivr.net/npm/vega@5?noext\",\n",
       "      \"vega-lib\": \"https://cdn.jsdelivr.net/npm/vega-lib?noext\",\n",
       "      \"vega-lite\": \"https://cdn.jsdelivr.net/npm/vega-lite@5.8.0?noext\",\n",
       "      \"vega-embed\": \"https://cdn.jsdelivr.net/npm/vega-embed@6?noext\",\n",
       "    };\n",
       "\n",
       "    function maybeLoadScript(lib, version) {\n",
       "      var key = `${lib.replace(\"-\", \"\")}_version`;\n",
       "      return (VEGA_DEBUG[key] == version) ?\n",
       "        Promise.resolve(paths[lib]) :\n",
       "        new Promise(function(resolve, reject) {\n",
       "          var s = document.createElement('script');\n",
       "          document.getElementsByTagName(\"head\")[0].appendChild(s);\n",
       "          s.async = true;\n",
       "          s.onload = () => {\n",
       "            VEGA_DEBUG[key] = version;\n",
       "            return resolve(paths[lib]);\n",
       "          };\n",
       "          s.onerror = () => reject(`Error loading script: ${paths[lib]}`);\n",
       "          s.src = paths[lib];\n",
       "        });\n",
       "    }\n",
       "\n",
       "    function showError(err) {\n",
       "      outputDiv.innerHTML = `<div class=\"error\" style=\"color:red;\">${err}</div>`;\n",
       "      throw err;\n",
       "    }\n",
       "\n",
       "    function displayChart(vegaEmbed) {\n",
       "      vegaEmbed(outputDiv, spec, embedOpt)\n",
       "        .catch(err => showError(`Javascript Error: ${err.message}<br>This usually means there's a typo in your chart specification. See the javascript console for the full traceback.`));\n",
       "    }\n",
       "\n",
       "    if(typeof define === \"function\" && define.amd) {\n",
       "      requirejs.config({paths});\n",
       "      require([\"vega-embed\"], displayChart, err => showError(`Error loading script: ${err.message}`));\n",
       "    } else {\n",
       "      maybeLoadScript(\"vega\", \"5\")\n",
       "        .then(() => maybeLoadScript(\"vega-lite\", \"5.8.0\"))\n",
       "        .then(() => maybeLoadScript(\"vega-embed\", \"6\"))\n",
       "        .catch(showError)\n",
       "        .then(() => displayChart(vegaEmbed));\n",
       "    }\n",
       "  })({\"config\": {\"view\": {\"continuousWidth\": 300, \"continuousHeight\": 300}}, \"layer\": [{\"data\": {\"sequence\": {\"start\": 0, \"stop\": 18, \"as\": \"a\"}, \"name\": \"tile_list\"}, \"mark\": {\"type\": \"image\", \"clip\": true, \"height\": {\"expr\": \"tile_size + 1\"}, \"width\": {\"expr\": \"tile_size + 1\"}}, \"encoding\": {\"url\": {\"field\": \"url\", \"type\": \"nominal\"}, \"x\": {\"field\": \"x\", \"scale\": null, \"type\": \"quantitative\"}, \"y\": {\"field\": \"y\", \"scale\": null, \"type\": \"quantitative\"}}, \"projection\": {\"center\": [0, 50], \"rotate\": [-10, 0, 0], \"scale\": 400, \"type\": \"mercator\"}, \"transform\": [{\"calculate\": \"sequence(0, 18)\", \"as\": \"b\"}, {\"flatten\": [\"b\"]}, {\"calculate\": \"'https://tile.openstreetmap.org/' + zoom_ceil + '/' + ((datum.a + dii_floor + tiles_count) % tiles_count) + '/' + (datum.b + djj_floor) + '.png'\", \"as\": \"url\"}, {\"calculate\": \"datum.a * tile_size + dx + (tile_size / 2)\", \"as\": \"x\"}, {\"calculate\": \"datum.b * tile_size + dy + (tile_size / 2)\", \"as\": \"y\"}, {\"filter\": \"((datum.a + dii_floor + tiles_count) % tiles_count) >= 0 && (datum.b + djj_floor) >= 0 && ((datum.a + dii_floor + tiles_count) % tiles_count) <= tiles_count && (datum.b + djj_floor) <= tiles_count\"}]}, {\"data\": {\"url\": \"https://cdn.jsdelivr.net/npm/vega-datasets@v1.29.0/data/world-110m.json\", \"format\": {\"feature\": \"countries\", \"type\": \"topojson\"}}, \"mark\": {\"type\": \"geoshape\", \"fillOpacity\": 0.1, \"stroke\": \"orange\", \"strokeWidth\": 2}, \"encoding\": {\"fill\": {\"field\": \"id\", \"legend\": null, \"type\": \"quantitative\"}}, \"projection\": {\"center\": [0, 50], \"rotate\": [-10, 0, 0], \"scale\": 400, \"type\": \"mercator\"}}, {\"data\": {\"name\": \"empty\"}, \"mark\": {\"type\": \"text\", \"align\": \"left\", \"dx\": 3, \"dy\": -8, \"text\": \"(C) OpenStreetMap contributors\"}, \"encoding\": {\"x\": {\"value\": 0}, \"y\": {\"value\": {\"expr\": \"height\"}}}}], \"height\": 600, \"params\": [{\"name\": \"base_tile_size\", \"value\": 256}, {\"name\": \"pr_scale\", \"expr\": \"400\"}, {\"name\": \"zoom_level\", \"expr\": \"log((2 * PI * pr_scale) / base_tile_size) / log(2)\"}, {\"name\": \"zoom_ceil\", \"expr\": \"ceil(zoom_level)\"}, {\"name\": \"tiles_count\", \"expr\": \"pow(2, zoom_ceil)\"}, {\"name\": \"tile_size\", \"expr\": \"base_tile_size * pow(2, zoom_level - zoom_ceil)\"}, {\"name\": \"base_point\", \"expr\": \"invert('projection', [0, 0])\"}, {\"name\": \"dii\", \"expr\": \"(base_point[0] + 180) / 360 * tiles_count\"}, {\"name\": \"dii_floor\", \"expr\": \"floor(dii)\"}, {\"name\": \"dx\", \"expr\": \"(dii_floor - dii) * tile_size\"}, {\"name\": \"djj\", \"expr\": \"(1 - log(tan(base_point[1] * PI / 180) + 1 / cos(base_point[1] * PI / 180)) / PI) / 2 * tiles_count\"}, {\"name\": \"djj_floor\", \"expr\": \"floor(djj)\"}, {\"name\": \"dy\", \"expr\": \"round((djj_floor - djj) * tile_size)\"}], \"width\": 600, \"$schema\": \"https://vega.github.io/schema/vega-lite/v5.8.0.json\", \"datasets\": {\"empty\": [{}]}}, {\"mode\": \"vega-lite\"});\n",
       "</script>"
      ],
      "text/plain": [
       "alt.LayerChart(...)"
      ]
     },
     "execution_count": 3,
     "metadata": {},
     "output_type": "execute_result"
    }
   ],
   "source": [
    "til.add_tiles(geoshape_countries)"
   ]
  },
  {
   "attachments": {},
   "cell_type": "markdown",
   "metadata": {},
   "source": [
    "By default `altair_tiles` infers an appropriate zoom level for the tiles. However, you can specify it yourself. By specifying `zoom=3` we get tiles which show less details:"
   ]
  },
  {
   "cell_type": "code",
   "execution_count": 4,
   "metadata": {},
   "outputs": [
    {
     "data": {
      "text/html": [
       "\n",
       "<style>\n",
       "  #altair-viz-3ef7c43fdb6d4963bef4a20acf6bd5e5.vega-embed {\n",
       "    width: 100%;\n",
       "    display: flex;\n",
       "  }\n",
       "\n",
       "  #altair-viz-3ef7c43fdb6d4963bef4a20acf6bd5e5.vega-embed details,\n",
       "  #altair-viz-3ef7c43fdb6d4963bef4a20acf6bd5e5.vega-embed details summary {\n",
       "    position: relative;\n",
       "  }\n",
       "</style>\n",
       "<div id=\"altair-viz-3ef7c43fdb6d4963bef4a20acf6bd5e5\"></div>\n",
       "<script type=\"text/javascript\">\n",
       "  var VEGA_DEBUG = (typeof VEGA_DEBUG == \"undefined\") ? {} : VEGA_DEBUG;\n",
       "  (function(spec, embedOpt){\n",
       "    let outputDiv = document.currentScript.previousElementSibling;\n",
       "    if (outputDiv.id !== \"altair-viz-3ef7c43fdb6d4963bef4a20acf6bd5e5\") {\n",
       "      outputDiv = document.getElementById(\"altair-viz-3ef7c43fdb6d4963bef4a20acf6bd5e5\");\n",
       "    }\n",
       "    const paths = {\n",
       "      \"vega\": \"https://cdn.jsdelivr.net/npm/vega@5?noext\",\n",
       "      \"vega-lib\": \"https://cdn.jsdelivr.net/npm/vega-lib?noext\",\n",
       "      \"vega-lite\": \"https://cdn.jsdelivr.net/npm/vega-lite@5.8.0?noext\",\n",
       "      \"vega-embed\": \"https://cdn.jsdelivr.net/npm/vega-embed@6?noext\",\n",
       "    };\n",
       "\n",
       "    function maybeLoadScript(lib, version) {\n",
       "      var key = `${lib.replace(\"-\", \"\")}_version`;\n",
       "      return (VEGA_DEBUG[key] == version) ?\n",
       "        Promise.resolve(paths[lib]) :\n",
       "        new Promise(function(resolve, reject) {\n",
       "          var s = document.createElement('script');\n",
       "          document.getElementsByTagName(\"head\")[0].appendChild(s);\n",
       "          s.async = true;\n",
       "          s.onload = () => {\n",
       "            VEGA_DEBUG[key] = version;\n",
       "            return resolve(paths[lib]);\n",
       "          };\n",
       "          s.onerror = () => reject(`Error loading script: ${paths[lib]}`);\n",
       "          s.src = paths[lib];\n",
       "        });\n",
       "    }\n",
       "\n",
       "    function showError(err) {\n",
       "      outputDiv.innerHTML = `<div class=\"error\" style=\"color:red;\">${err}</div>`;\n",
       "      throw err;\n",
       "    }\n",
       "\n",
       "    function displayChart(vegaEmbed) {\n",
       "      vegaEmbed(outputDiv, spec, embedOpt)\n",
       "        .catch(err => showError(`Javascript Error: ${err.message}<br>This usually means there's a typo in your chart specification. See the javascript console for the full traceback.`));\n",
       "    }\n",
       "\n",
       "    if(typeof define === \"function\" && define.amd) {\n",
       "      requirejs.config({paths});\n",
       "      require([\"vega-embed\"], displayChart, err => showError(`Error loading script: ${err.message}`));\n",
       "    } else {\n",
       "      maybeLoadScript(\"vega\", \"5\")\n",
       "        .then(() => maybeLoadScript(\"vega-lite\", \"5.8.0\"))\n",
       "        .then(() => maybeLoadScript(\"vega-embed\", \"6\"))\n",
       "        .catch(showError)\n",
       "        .then(() => displayChart(vegaEmbed));\n",
       "    }\n",
       "  })({\"config\": {\"view\": {\"continuousWidth\": 300, \"continuousHeight\": 300}}, \"layer\": [{\"data\": {\"sequence\": {\"start\": 0, \"stop\": 10, \"as\": \"a\"}, \"name\": \"tile_list\"}, \"mark\": {\"type\": \"image\", \"clip\": true, \"height\": {\"expr\": \"tile_size + 1\"}, \"width\": {\"expr\": \"tile_size + 1\"}}, \"encoding\": {\"url\": {\"field\": \"url\", \"type\": \"nominal\"}, \"x\": {\"field\": \"x\", \"scale\": null, \"type\": \"quantitative\"}, \"y\": {\"field\": \"y\", \"scale\": null, \"type\": \"quantitative\"}}, \"projection\": {\"center\": [0, 50], \"rotate\": [-10, 0, 0], \"scale\": 400, \"type\": \"mercator\"}, \"transform\": [{\"calculate\": \"sequence(0, 10)\", \"as\": \"b\"}, {\"flatten\": [\"b\"]}, {\"calculate\": \"'https://tile.openstreetmap.org/' + zoom_ceil + '/' + ((datum.a + dii_floor + tiles_count) % tiles_count) + '/' + (datum.b + djj_floor) + '.png'\", \"as\": \"url\"}, {\"calculate\": \"datum.a * tile_size + dx + (tile_size / 2)\", \"as\": \"x\"}, {\"calculate\": \"datum.b * tile_size + dy + (tile_size / 2)\", \"as\": \"y\"}, {\"filter\": \"((datum.a + dii_floor + tiles_count) % tiles_count) >= 0 && (datum.b + djj_floor) >= 0 && ((datum.a + dii_floor + tiles_count) % tiles_count) <= tiles_count && (datum.b + djj_floor) <= tiles_count\"}]}, {\"data\": {\"url\": \"https://cdn.jsdelivr.net/npm/vega-datasets@v1.29.0/data/world-110m.json\", \"format\": {\"feature\": \"countries\", \"type\": \"topojson\"}}, \"mark\": {\"type\": \"geoshape\", \"fillOpacity\": 0.1, \"stroke\": \"orange\", \"strokeWidth\": 2}, \"encoding\": {\"fill\": {\"field\": \"id\", \"legend\": null, \"type\": \"quantitative\"}}, \"projection\": {\"center\": [0, 50], \"rotate\": [-10, 0, 0], \"scale\": 400, \"type\": \"mercator\"}}, {\"data\": {\"name\": \"empty\"}, \"mark\": {\"type\": \"text\", \"align\": \"left\", \"dx\": 3, \"dy\": -8, \"text\": \"(C) OpenStreetMap contributors\"}, \"encoding\": {\"x\": {\"value\": 0}, \"y\": {\"value\": {\"expr\": \"height\"}}}}], \"height\": 600, \"params\": [{\"name\": \"base_tile_size\", \"expr\": \"(2 * PI * pr_scale) / pow(2, zoom_level)\"}, {\"name\": \"pr_scale\", \"expr\": \"400\"}, {\"name\": \"zoom_level\", \"value\": 3}, {\"name\": \"zoom_ceil\", \"expr\": \"ceil(zoom_level)\"}, {\"name\": \"tiles_count\", \"expr\": \"pow(2, zoom_ceil)\"}, {\"name\": \"tile_size\", \"expr\": \"base_tile_size * pow(2, zoom_level - zoom_ceil)\"}, {\"name\": \"base_point\", \"expr\": \"invert('projection', [0, 0])\"}, {\"name\": \"dii\", \"expr\": \"(base_point[0] + 180) / 360 * tiles_count\"}, {\"name\": \"dii_floor\", \"expr\": \"floor(dii)\"}, {\"name\": \"dx\", \"expr\": \"(dii_floor - dii) * tile_size\"}, {\"name\": \"djj\", \"expr\": \"(1 - log(tan(base_point[1] * PI / 180) + 1 / cos(base_point[1] * PI / 180)) / PI) / 2 * tiles_count\"}, {\"name\": \"djj_floor\", \"expr\": \"floor(djj)\"}, {\"name\": \"dy\", \"expr\": \"round((djj_floor - djj) * tile_size)\"}], \"width\": 600, \"$schema\": \"https://vega.github.io/schema/vega-lite/v5.8.0.json\", \"datasets\": {\"empty\": [{}]}}, {\"mode\": \"vega-lite\"});\n",
       "</script>"
      ],
      "text/plain": [
       "alt.LayerChart(...)"
      ]
     },
     "execution_count": 4,
     "metadata": {},
     "output_type": "execute_result"
    }
   ],
   "source": [
    "til.add_tiles(geoshape_countries, zoom=3)"
   ]
  },
  {
   "attachments": {},
   "cell_type": "markdown",
   "metadata": {},
   "source": [
    "If we increase `zoom` to `5` we see more details in the tiles:"
   ]
  },
  {
   "cell_type": "code",
   "execution_count": 5,
   "metadata": {},
   "outputs": [
    {
     "data": {
      "text/html": [
       "\n",
       "<style>\n",
       "  #altair-viz-43015c48fb934bf4bfed5df3bcbad6c0.vega-embed {\n",
       "    width: 100%;\n",
       "    display: flex;\n",
       "  }\n",
       "\n",
       "  #altair-viz-43015c48fb934bf4bfed5df3bcbad6c0.vega-embed details,\n",
       "  #altair-viz-43015c48fb934bf4bfed5df3bcbad6c0.vega-embed details summary {\n",
       "    position: relative;\n",
       "  }\n",
       "</style>\n",
       "<div id=\"altair-viz-43015c48fb934bf4bfed5df3bcbad6c0\"></div>\n",
       "<script type=\"text/javascript\">\n",
       "  var VEGA_DEBUG = (typeof VEGA_DEBUG == \"undefined\") ? {} : VEGA_DEBUG;\n",
       "  (function(spec, embedOpt){\n",
       "    let outputDiv = document.currentScript.previousElementSibling;\n",
       "    if (outputDiv.id !== \"altair-viz-43015c48fb934bf4bfed5df3bcbad6c0\") {\n",
       "      outputDiv = document.getElementById(\"altair-viz-43015c48fb934bf4bfed5df3bcbad6c0\");\n",
       "    }\n",
       "    const paths = {\n",
       "      \"vega\": \"https://cdn.jsdelivr.net/npm/vega@5?noext\",\n",
       "      \"vega-lib\": \"https://cdn.jsdelivr.net/npm/vega-lib?noext\",\n",
       "      \"vega-lite\": \"https://cdn.jsdelivr.net/npm/vega-lite@5.8.0?noext\",\n",
       "      \"vega-embed\": \"https://cdn.jsdelivr.net/npm/vega-embed@6?noext\",\n",
       "    };\n",
       "\n",
       "    function maybeLoadScript(lib, version) {\n",
       "      var key = `${lib.replace(\"-\", \"\")}_version`;\n",
       "      return (VEGA_DEBUG[key] == version) ?\n",
       "        Promise.resolve(paths[lib]) :\n",
       "        new Promise(function(resolve, reject) {\n",
       "          var s = document.createElement('script');\n",
       "          document.getElementsByTagName(\"head\")[0].appendChild(s);\n",
       "          s.async = true;\n",
       "          s.onload = () => {\n",
       "            VEGA_DEBUG[key] = version;\n",
       "            return resolve(paths[lib]);\n",
       "          };\n",
       "          s.onerror = () => reject(`Error loading script: ${paths[lib]}`);\n",
       "          s.src = paths[lib];\n",
       "        });\n",
       "    }\n",
       "\n",
       "    function showError(err) {\n",
       "      outputDiv.innerHTML = `<div class=\"error\" style=\"color:red;\">${err}</div>`;\n",
       "      throw err;\n",
       "    }\n",
       "\n",
       "    function displayChart(vegaEmbed) {\n",
       "      vegaEmbed(outputDiv, spec, embedOpt)\n",
       "        .catch(err => showError(`Javascript Error: ${err.message}<br>This usually means there's a typo in your chart specification. See the javascript console for the full traceback.`));\n",
       "    }\n",
       "\n",
       "    if(typeof define === \"function\" && define.amd) {\n",
       "      requirejs.config({paths});\n",
       "      require([\"vega-embed\"], displayChart, err => showError(`Error loading script: ${err.message}`));\n",
       "    } else {\n",
       "      maybeLoadScript(\"vega\", \"5\")\n",
       "        .then(() => maybeLoadScript(\"vega-lite\", \"5.8.0\"))\n",
       "        .then(() => maybeLoadScript(\"vega-embed\", \"6\"))\n",
       "        .catch(showError)\n",
       "        .then(() => displayChart(vegaEmbed));\n",
       "    }\n",
       "  })({\"config\": {\"view\": {\"continuousWidth\": 300, \"continuousHeight\": 300}}, \"layer\": [{\"data\": {\"sequence\": {\"start\": 0, \"stop\": 34, \"as\": \"a\"}, \"name\": \"tile_list\"}, \"mark\": {\"type\": \"image\", \"clip\": true, \"height\": {\"expr\": \"tile_size + 1\"}, \"width\": {\"expr\": \"tile_size + 1\"}}, \"encoding\": {\"url\": {\"field\": \"url\", \"type\": \"nominal\"}, \"x\": {\"field\": \"x\", \"scale\": null, \"type\": \"quantitative\"}, \"y\": {\"field\": \"y\", \"scale\": null, \"type\": \"quantitative\"}}, \"projection\": {\"center\": [0, 50], \"rotate\": [-10, 0, 0], \"scale\": 400, \"type\": \"mercator\"}, \"transform\": [{\"calculate\": \"sequence(0, 34)\", \"as\": \"b\"}, {\"flatten\": [\"b\"]}, {\"calculate\": \"'https://tile.openstreetmap.org/' + zoom_ceil + '/' + ((datum.a + dii_floor + tiles_count) % tiles_count) + '/' + (datum.b + djj_floor) + '.png'\", \"as\": \"url\"}, {\"calculate\": \"datum.a * tile_size + dx + (tile_size / 2)\", \"as\": \"x\"}, {\"calculate\": \"datum.b * tile_size + dy + (tile_size / 2)\", \"as\": \"y\"}, {\"filter\": \"((datum.a + dii_floor + tiles_count) % tiles_count) >= 0 && (datum.b + djj_floor) >= 0 && ((datum.a + dii_floor + tiles_count) % tiles_count) <= tiles_count && (datum.b + djj_floor) <= tiles_count\"}]}, {\"data\": {\"url\": \"https://cdn.jsdelivr.net/npm/vega-datasets@v1.29.0/data/world-110m.json\", \"format\": {\"feature\": \"countries\", \"type\": \"topojson\"}}, \"mark\": {\"type\": \"geoshape\", \"fillOpacity\": 0.1, \"stroke\": \"orange\", \"strokeWidth\": 2}, \"encoding\": {\"fill\": {\"field\": \"id\", \"legend\": null, \"type\": \"quantitative\"}}, \"projection\": {\"center\": [0, 50], \"rotate\": [-10, 0, 0], \"scale\": 400, \"type\": \"mercator\"}}, {\"data\": {\"name\": \"empty\"}, \"mark\": {\"type\": \"text\", \"align\": \"left\", \"dx\": 3, \"dy\": -8, \"text\": \"(C) OpenStreetMap contributors\"}, \"encoding\": {\"x\": {\"value\": 0}, \"y\": {\"value\": {\"expr\": \"height\"}}}}], \"height\": 600, \"params\": [{\"name\": \"base_tile_size\", \"expr\": \"(2 * PI * pr_scale) / pow(2, zoom_level)\"}, {\"name\": \"pr_scale\", \"expr\": \"400\"}, {\"name\": \"zoom_level\", \"value\": 5}, {\"name\": \"zoom_ceil\", \"expr\": \"ceil(zoom_level)\"}, {\"name\": \"tiles_count\", \"expr\": \"pow(2, zoom_ceil)\"}, {\"name\": \"tile_size\", \"expr\": \"base_tile_size * pow(2, zoom_level - zoom_ceil)\"}, {\"name\": \"base_point\", \"expr\": \"invert('projection', [0, 0])\"}, {\"name\": \"dii\", \"expr\": \"(base_point[0] + 180) / 360 * tiles_count\"}, {\"name\": \"dii_floor\", \"expr\": \"floor(dii)\"}, {\"name\": \"dx\", \"expr\": \"(dii_floor - dii) * tile_size\"}, {\"name\": \"djj\", \"expr\": \"(1 - log(tan(base_point[1] * PI / 180) + 1 / cos(base_point[1] * PI / 180)) / PI) / 2 * tiles_count\"}, {\"name\": \"djj_floor\", \"expr\": \"floor(djj)\"}, {\"name\": \"dy\", \"expr\": \"round((djj_floor - djj) * tile_size)\"}], \"width\": 600, \"$schema\": \"https://vega.github.io/schema/vega-lite/v5.8.0.json\", \"datasets\": {\"empty\": [{}]}}, {\"mode\": \"vega-lite\"});\n",
       "</script>"
      ],
      "text/plain": [
       "alt.LayerChart(...)"
      ]
     },
     "execution_count": 5,
     "metadata": {},
     "output_type": "execute_result"
    }
   ],
   "source": [
    "til.add_tiles(geoshape_countries, zoom=5)"
   ]
  },
  {
   "attachments": {},
   "cell_type": "markdown",
   "metadata": {},
   "source": [
    "Use a different tile provider. Providers are coming from `xyzservices` and can be accessed via `abm.providers` or `xyzservices.providers`."
   ]
  },
  {
   "cell_type": "code",
   "execution_count": 6,
   "metadata": {},
   "outputs": [
    {
     "data": {
      "text/html": [
       "\n",
       "<style>\n",
       "  #altair-viz-231eb89e4bce4f098d3187256c673c9e.vega-embed {\n",
       "    width: 100%;\n",
       "    display: flex;\n",
       "  }\n",
       "\n",
       "  #altair-viz-231eb89e4bce4f098d3187256c673c9e.vega-embed details,\n",
       "  #altair-viz-231eb89e4bce4f098d3187256c673c9e.vega-embed details summary {\n",
       "    position: relative;\n",
       "  }\n",
       "</style>\n",
       "<div id=\"altair-viz-231eb89e4bce4f098d3187256c673c9e\"></div>\n",
       "<script type=\"text/javascript\">\n",
       "  var VEGA_DEBUG = (typeof VEGA_DEBUG == \"undefined\") ? {} : VEGA_DEBUG;\n",
       "  (function(spec, embedOpt){\n",
       "    let outputDiv = document.currentScript.previousElementSibling;\n",
       "    if (outputDiv.id !== \"altair-viz-231eb89e4bce4f098d3187256c673c9e\") {\n",
       "      outputDiv = document.getElementById(\"altair-viz-231eb89e4bce4f098d3187256c673c9e\");\n",
       "    }\n",
       "    const paths = {\n",
       "      \"vega\": \"https://cdn.jsdelivr.net/npm/vega@5?noext\",\n",
       "      \"vega-lib\": \"https://cdn.jsdelivr.net/npm/vega-lib?noext\",\n",
       "      \"vega-lite\": \"https://cdn.jsdelivr.net/npm/vega-lite@5.8.0?noext\",\n",
       "      \"vega-embed\": \"https://cdn.jsdelivr.net/npm/vega-embed@6?noext\",\n",
       "    };\n",
       "\n",
       "    function maybeLoadScript(lib, version) {\n",
       "      var key = `${lib.replace(\"-\", \"\")}_version`;\n",
       "      return (VEGA_DEBUG[key] == version) ?\n",
       "        Promise.resolve(paths[lib]) :\n",
       "        new Promise(function(resolve, reject) {\n",
       "          var s = document.createElement('script');\n",
       "          document.getElementsByTagName(\"head\")[0].appendChild(s);\n",
       "          s.async = true;\n",
       "          s.onload = () => {\n",
       "            VEGA_DEBUG[key] = version;\n",
       "            return resolve(paths[lib]);\n",
       "          };\n",
       "          s.onerror = () => reject(`Error loading script: ${paths[lib]}`);\n",
       "          s.src = paths[lib];\n",
       "        });\n",
       "    }\n",
       "\n",
       "    function showError(err) {\n",
       "      outputDiv.innerHTML = `<div class=\"error\" style=\"color:red;\">${err}</div>`;\n",
       "      throw err;\n",
       "    }\n",
       "\n",
       "    function displayChart(vegaEmbed) {\n",
       "      vegaEmbed(outputDiv, spec, embedOpt)\n",
       "        .catch(err => showError(`Javascript Error: ${err.message}<br>This usually means there's a typo in your chart specification. See the javascript console for the full traceback.`));\n",
       "    }\n",
       "\n",
       "    if(typeof define === \"function\" && define.amd) {\n",
       "      requirejs.config({paths});\n",
       "      require([\"vega-embed\"], displayChart, err => showError(`Error loading script: ${err.message}`));\n",
       "    } else {\n",
       "      maybeLoadScript(\"vega\", \"5\")\n",
       "        .then(() => maybeLoadScript(\"vega-lite\", \"5.8.0\"))\n",
       "        .then(() => maybeLoadScript(\"vega-embed\", \"6\"))\n",
       "        .catch(showError)\n",
       "        .then(() => displayChart(vegaEmbed));\n",
       "    }\n",
       "  })({\"config\": {\"view\": {\"continuousWidth\": 300, \"continuousHeight\": 300}}, \"layer\": [{\"data\": {\"sequence\": {\"start\": 0, \"stop\": 18, \"as\": \"a\"}, \"name\": \"tile_list\"}, \"mark\": {\"type\": \"image\", \"clip\": true, \"height\": {\"expr\": \"tile_size + 1\"}, \"width\": {\"expr\": \"tile_size + 1\"}}, \"encoding\": {\"url\": {\"field\": \"url\", \"type\": \"nominal\"}, \"x\": {\"field\": \"x\", \"scale\": null, \"type\": \"quantitative\"}, \"y\": {\"field\": \"y\", \"scale\": null, \"type\": \"quantitative\"}}, \"projection\": {\"center\": [0, 50], \"rotate\": [-10, 0, 0], \"scale\": 400, \"type\": \"mercator\"}, \"transform\": [{\"calculate\": \"sequence(0, 18)\", \"as\": \"b\"}, {\"flatten\": [\"b\"]}, {\"calculate\": \"'https://a.basemaps.cartocdn.com/light_all/' + zoom_ceil + '/' + ((datum.a + dii_floor + tiles_count) % tiles_count) + '/' + (datum.b + djj_floor) + '.png'\", \"as\": \"url\"}, {\"calculate\": \"datum.a * tile_size + dx + (tile_size / 2)\", \"as\": \"x\"}, {\"calculate\": \"datum.b * tile_size + dy + (tile_size / 2)\", \"as\": \"y\"}, {\"filter\": \"((datum.a + dii_floor + tiles_count) % tiles_count) >= 0 && (datum.b + djj_floor) >= 0 && ((datum.a + dii_floor + tiles_count) % tiles_count) <= tiles_count && (datum.b + djj_floor) <= tiles_count\"}]}, {\"data\": {\"url\": \"https://cdn.jsdelivr.net/npm/vega-datasets@v1.29.0/data/world-110m.json\", \"format\": {\"feature\": \"countries\", \"type\": \"topojson\"}}, \"mark\": {\"type\": \"geoshape\", \"fillOpacity\": 0.1, \"stroke\": \"orange\", \"strokeWidth\": 2}, \"encoding\": {\"fill\": {\"field\": \"id\", \"legend\": null, \"type\": \"quantitative\"}}, \"projection\": {\"center\": [0, 50], \"rotate\": [-10, 0, 0], \"scale\": 400, \"type\": \"mercator\"}}, {\"data\": {\"name\": \"empty\"}, \"mark\": {\"type\": \"text\", \"align\": \"left\", \"dx\": 3, \"dy\": -8, \"text\": \"(C) OpenStreetMap contributors (C) CARTO\"}, \"encoding\": {\"x\": {\"value\": 0}, \"y\": {\"value\": {\"expr\": \"height\"}}}}], \"height\": 600, \"params\": [{\"name\": \"base_tile_size\", \"value\": 256}, {\"name\": \"pr_scale\", \"expr\": \"400\"}, {\"name\": \"zoom_level\", \"expr\": \"log((2 * PI * pr_scale) / base_tile_size) / log(2)\"}, {\"name\": \"zoom_ceil\", \"expr\": \"ceil(zoom_level)\"}, {\"name\": \"tiles_count\", \"expr\": \"pow(2, zoom_ceil)\"}, {\"name\": \"tile_size\", \"expr\": \"base_tile_size * pow(2, zoom_level - zoom_ceil)\"}, {\"name\": \"base_point\", \"expr\": \"invert('projection', [0, 0])\"}, {\"name\": \"dii\", \"expr\": \"(base_point[0] + 180) / 360 * tiles_count\"}, {\"name\": \"dii_floor\", \"expr\": \"floor(dii)\"}, {\"name\": \"dx\", \"expr\": \"(dii_floor - dii) * tile_size\"}, {\"name\": \"djj\", \"expr\": \"(1 - log(tan(base_point[1] * PI / 180) + 1 / cos(base_point[1] * PI / 180)) / PI) / 2 * tiles_count\"}, {\"name\": \"djj_floor\", \"expr\": \"floor(djj)\"}, {\"name\": \"dy\", \"expr\": \"round((djj_floor - djj) * tile_size)\"}], \"width\": 600, \"$schema\": \"https://vega.github.io/schema/vega-lite/v5.8.0.json\", \"datasets\": {\"empty\": [{}]}}, {\"mode\": \"vega-lite\"});\n",
       "</script>"
      ],
      "text/plain": [
       "alt.LayerChart(...)"
      ]
     },
     "execution_count": 6,
     "metadata": {},
     "output_type": "execute_result"
    }
   ],
   "source": [
    "til.add_tiles(geoshape_countries, provider=til.providers.CartoDB.Positron)"
   ]
  },
  {
   "attachments": {},
   "cell_type": "markdown",
   "metadata": {},
   "source": [
    "Zoom in on Los Angeles"
   ]
  },
  {
   "cell_type": "code",
   "execution_count": 7,
   "metadata": {},
   "outputs": [
    {
     "data": {
      "text/html": [
       "\n",
       "<style>\n",
       "  #altair-viz-c774cab11bfb4d8ebfb1dcf8665ee210.vega-embed {\n",
       "    width: 100%;\n",
       "    display: flex;\n",
       "  }\n",
       "\n",
       "  #altair-viz-c774cab11bfb4d8ebfb1dcf8665ee210.vega-embed details,\n",
       "  #altair-viz-c774cab11bfb4d8ebfb1dcf8665ee210.vega-embed details summary {\n",
       "    position: relative;\n",
       "  }\n",
       "</style>\n",
       "<div id=\"altair-viz-c774cab11bfb4d8ebfb1dcf8665ee210\"></div>\n",
       "<script type=\"text/javascript\">\n",
       "  var VEGA_DEBUG = (typeof VEGA_DEBUG == \"undefined\") ? {} : VEGA_DEBUG;\n",
       "  (function(spec, embedOpt){\n",
       "    let outputDiv = document.currentScript.previousElementSibling;\n",
       "    if (outputDiv.id !== \"altair-viz-c774cab11bfb4d8ebfb1dcf8665ee210\") {\n",
       "      outputDiv = document.getElementById(\"altair-viz-c774cab11bfb4d8ebfb1dcf8665ee210\");\n",
       "    }\n",
       "    const paths = {\n",
       "      \"vega\": \"https://cdn.jsdelivr.net/npm/vega@5?noext\",\n",
       "      \"vega-lib\": \"https://cdn.jsdelivr.net/npm/vega-lib?noext\",\n",
       "      \"vega-lite\": \"https://cdn.jsdelivr.net/npm/vega-lite@5.8.0?noext\",\n",
       "      \"vega-embed\": \"https://cdn.jsdelivr.net/npm/vega-embed@6?noext\",\n",
       "    };\n",
       "\n",
       "    function maybeLoadScript(lib, version) {\n",
       "      var key = `${lib.replace(\"-\", \"\")}_version`;\n",
       "      return (VEGA_DEBUG[key] == version) ?\n",
       "        Promise.resolve(paths[lib]) :\n",
       "        new Promise(function(resolve, reject) {\n",
       "          var s = document.createElement('script');\n",
       "          document.getElementsByTagName(\"head\")[0].appendChild(s);\n",
       "          s.async = true;\n",
       "          s.onload = () => {\n",
       "            VEGA_DEBUG[key] = version;\n",
       "            return resolve(paths[lib]);\n",
       "          };\n",
       "          s.onerror = () => reject(`Error loading script: ${paths[lib]}`);\n",
       "          s.src = paths[lib];\n",
       "        });\n",
       "    }\n",
       "\n",
       "    function showError(err) {\n",
       "      outputDiv.innerHTML = `<div class=\"error\" style=\"color:red;\">${err}</div>`;\n",
       "      throw err;\n",
       "    }\n",
       "\n",
       "    function displayChart(vegaEmbed) {\n",
       "      vegaEmbed(outputDiv, spec, embedOpt)\n",
       "        .catch(err => showError(`Javascript Error: ${err.message}<br>This usually means there's a typo in your chart specification. See the javascript console for the full traceback.`));\n",
       "    }\n",
       "\n",
       "    if(typeof define === \"function\" && define.amd) {\n",
       "      requirejs.config({paths});\n",
       "      require([\"vega-embed\"], displayChart, err => showError(`Error loading script: ${err.message}`));\n",
       "    } else {\n",
       "      maybeLoadScript(\"vega\", \"5\")\n",
       "        .then(() => maybeLoadScript(\"vega-lite\", \"5.8.0\"))\n",
       "        .then(() => maybeLoadScript(\"vega-embed\", \"6\"))\n",
       "        .catch(showError)\n",
       "        .then(() => displayChart(vegaEmbed));\n",
       "    }\n",
       "  })({\"config\": {\"view\": {\"continuousWidth\": 300, \"continuousHeight\": 300}}, \"layer\": [{\"data\": {\"sequence\": {\"start\": 0, \"stop\": 2050, \"as\": \"a\"}, \"name\": \"tile_list\"}, \"mark\": {\"type\": \"image\", \"clip\": true, \"height\": {\"expr\": \"tile_size + 1\"}, \"width\": {\"expr\": \"tile_size + 1\"}}, \"encoding\": {\"url\": {\"field\": \"url\", \"type\": \"nominal\"}, \"x\": {\"field\": \"x\", \"scale\": null, \"type\": \"quantitative\"}, \"y\": {\"field\": \"y\", \"scale\": null, \"type\": \"quantitative\"}}, \"projection\": {\"center\": [-118.2, 33.9], \"scale\": 70000, \"type\": \"mercator\"}, \"transform\": [{\"calculate\": \"sequence(0, 2050)\", \"as\": \"b\"}, {\"flatten\": [\"b\"]}, {\"calculate\": \"'https://tile.openstreetmap.org/' + zoom_ceil + '/' + ((datum.a + dii_floor + tiles_count) % tiles_count) + '/' + (datum.b + djj_floor) + '.png'\", \"as\": \"url\"}, {\"calculate\": \"datum.a * tile_size + dx + (tile_size / 2)\", \"as\": \"x\"}, {\"calculate\": \"datum.b * tile_size + dy + (tile_size / 2)\", \"as\": \"y\"}, {\"filter\": \"((datum.a + dii_floor + tiles_count) % tiles_count) >= 0 && (datum.b + djj_floor) >= 0 && ((datum.a + dii_floor + tiles_count) % tiles_count) <= tiles_count && (datum.b + djj_floor) <= tiles_count\"}]}, {\"data\": {\"url\": \"https://cdn.jsdelivr.net/npm/vega-datasets@v1.29.0/data/world-110m.json\", \"format\": {\"feature\": \"countries\", \"type\": \"topojson\"}}, \"mark\": {\"type\": \"geoshape\", \"fillOpacity\": 0.1, \"stroke\": \"orange\", \"strokeWidth\": 2}, \"encoding\": {\"fill\": {\"field\": \"id\", \"legend\": null, \"type\": \"quantitative\"}}, \"projection\": {\"center\": [-118.2, 33.9], \"scale\": 70000, \"type\": \"mercator\"}}, {\"data\": {\"name\": \"empty\"}, \"mark\": {\"type\": \"text\", \"align\": \"left\", \"dx\": 3, \"dy\": -8, \"text\": \"(C) OpenStreetMap contributors\"}, \"encoding\": {\"x\": {\"value\": 0}, \"y\": {\"value\": {\"expr\": \"height\"}}}}], \"height\": 600, \"params\": [{\"name\": \"base_tile_size\", \"value\": 256}, {\"name\": \"pr_scale\", \"expr\": \"70000\"}, {\"name\": \"zoom_level\", \"expr\": \"log((2 * PI * pr_scale) / base_tile_size) / log(2)\"}, {\"name\": \"zoom_ceil\", \"expr\": \"ceil(zoom_level)\"}, {\"name\": \"tiles_count\", \"expr\": \"pow(2, zoom_ceil)\"}, {\"name\": \"tile_size\", \"expr\": \"base_tile_size * pow(2, zoom_level - zoom_ceil)\"}, {\"name\": \"base_point\", \"expr\": \"invert('projection', [0, 0])\"}, {\"name\": \"dii\", \"expr\": \"(base_point[0] + 180) / 360 * tiles_count\"}, {\"name\": \"dii_floor\", \"expr\": \"floor(dii)\"}, {\"name\": \"dx\", \"expr\": \"(dii_floor - dii) * tile_size\"}, {\"name\": \"djj\", \"expr\": \"(1 - log(tan(base_point[1] * PI / 180) + 1 / cos(base_point[1] * PI / 180)) / PI) / 2 * tiles_count\"}, {\"name\": \"djj_floor\", \"expr\": \"floor(djj)\"}, {\"name\": \"dy\", \"expr\": \"round((djj_floor - djj) * tile_size)\"}], \"width\": 600, \"$schema\": \"https://vega.github.io/schema/vega-lite/v5.8.0.json\", \"datasets\": {\"empty\": [{}]}}, {\"mode\": \"vega-lite\"});\n",
       "</script>"
      ],
      "text/plain": [
       "alt.LayerChart(...)"
      ]
     },
     "execution_count": 7,
     "metadata": {},
     "output_type": "execute_result"
    }
   ],
   "source": [
    "til.add_tiles(\n",
    "    geoshape_countries.project(\n",
    "        type=\"mercator\", scale=70_000, center=[-118.2, 33.9]\n",
    "    )\n",
    ")\n"
   ]
  },
  {
   "attachments": {},
   "cell_type": "markdown",
   "metadata": {},
   "source": [
    "# Create individual tiles chart"
   ]
  },
  {
   "cell_type": "code",
   "execution_count": 8,
   "metadata": {},
   "outputs": [
    {
     "data": {
      "text/html": [
       "\n",
       "<style>\n",
       "  #altair-viz-5411d8ebf8354cc4b48173ce3a837f3e.vega-embed {\n",
       "    width: 100%;\n",
       "    display: flex;\n",
       "  }\n",
       "\n",
       "  #altair-viz-5411d8ebf8354cc4b48173ce3a837f3e.vega-embed details,\n",
       "  #altair-viz-5411d8ebf8354cc4b48173ce3a837f3e.vega-embed details summary {\n",
       "    position: relative;\n",
       "  }\n",
       "</style>\n",
       "<div id=\"altair-viz-5411d8ebf8354cc4b48173ce3a837f3e\"></div>\n",
       "<script type=\"text/javascript\">\n",
       "  var VEGA_DEBUG = (typeof VEGA_DEBUG == \"undefined\") ? {} : VEGA_DEBUG;\n",
       "  (function(spec, embedOpt){\n",
       "    let outputDiv = document.currentScript.previousElementSibling;\n",
       "    if (outputDiv.id !== \"altair-viz-5411d8ebf8354cc4b48173ce3a837f3e\") {\n",
       "      outputDiv = document.getElementById(\"altair-viz-5411d8ebf8354cc4b48173ce3a837f3e\");\n",
       "    }\n",
       "    const paths = {\n",
       "      \"vega\": \"https://cdn.jsdelivr.net/npm/vega@5?noext\",\n",
       "      \"vega-lib\": \"https://cdn.jsdelivr.net/npm/vega-lib?noext\",\n",
       "      \"vega-lite\": \"https://cdn.jsdelivr.net/npm/vega-lite@5.8.0?noext\",\n",
       "      \"vega-embed\": \"https://cdn.jsdelivr.net/npm/vega-embed@6?noext\",\n",
       "    };\n",
       "\n",
       "    function maybeLoadScript(lib, version) {\n",
       "      var key = `${lib.replace(\"-\", \"\")}_version`;\n",
       "      return (VEGA_DEBUG[key] == version) ?\n",
       "        Promise.resolve(paths[lib]) :\n",
       "        new Promise(function(resolve, reject) {\n",
       "          var s = document.createElement('script');\n",
       "          document.getElementsByTagName(\"head\")[0].appendChild(s);\n",
       "          s.async = true;\n",
       "          s.onload = () => {\n",
       "            VEGA_DEBUG[key] = version;\n",
       "            return resolve(paths[lib]);\n",
       "          };\n",
       "          s.onerror = () => reject(`Error loading script: ${paths[lib]}`);\n",
       "          s.src = paths[lib];\n",
       "        });\n",
       "    }\n",
       "\n",
       "    function showError(err) {\n",
       "      outputDiv.innerHTML = `<div class=\"error\" style=\"color:red;\">${err}</div>`;\n",
       "      throw err;\n",
       "    }\n",
       "\n",
       "    function displayChart(vegaEmbed) {\n",
       "      vegaEmbed(outputDiv, spec, embedOpt)\n",
       "        .catch(err => showError(`Javascript Error: ${err.message}<br>This usually means there's a typo in your chart specification. See the javascript console for the full traceback.`));\n",
       "    }\n",
       "\n",
       "    if(typeof define === \"function\" && define.amd) {\n",
       "      requirejs.config({paths});\n",
       "      require([\"vega-embed\"], displayChart, err => showError(`Error loading script: ${err.message}`));\n",
       "    } else {\n",
       "      maybeLoadScript(\"vega\", \"5\")\n",
       "        .then(() => maybeLoadScript(\"vega-lite\", \"5.8.0\"))\n",
       "        .then(() => maybeLoadScript(\"vega-embed\", \"6\"))\n",
       "        .catch(showError)\n",
       "        .then(() => displayChart(vegaEmbed));\n",
       "    }\n",
       "  })({\"config\": {\"view\": {\"continuousWidth\": 300, \"continuousHeight\": 300}}, \"layer\": [{\"data\": {\"name\": \"empty\"}, \"mark\": {\"type\": \"geoshape\"}, \"projection\": {\"center\": [0, 50], \"rotate\": [-10, 0, 0], \"scale\": 400, \"type\": \"mercator\"}}, {\"layer\": [{\"data\": {\"sequence\": {\"start\": 0, \"stop\": 18, \"as\": \"a\"}, \"name\": \"tile_list\"}, \"mark\": {\"type\": \"image\", \"clip\": true, \"height\": {\"expr\": \"tile_size + 1\"}, \"width\": {\"expr\": \"tile_size + 1\"}}, \"encoding\": {\"url\": {\"field\": \"url\", \"type\": \"nominal\"}, \"x\": {\"field\": \"x\", \"scale\": null, \"type\": \"quantitative\"}, \"y\": {\"field\": \"y\", \"scale\": null, \"type\": \"quantitative\"}}, \"projection\": {\"center\": [0, 50], \"rotate\": [-10, 0, 0], \"scale\": 400, \"type\": \"mercator\"}, \"transform\": [{\"calculate\": \"sequence(0, 18)\", \"as\": \"b\"}, {\"flatten\": [\"b\"]}, {\"calculate\": \"'https://tile.openstreetmap.org/' + zoom_ceil + '/' + ((datum.a + dii_floor + tiles_count) % tiles_count) + '/' + (datum.b + djj_floor) + '.png'\", \"as\": \"url\"}, {\"calculate\": \"datum.a * tile_size + dx + (tile_size / 2)\", \"as\": \"x\"}, {\"calculate\": \"datum.b * tile_size + dy + (tile_size / 2)\", \"as\": \"y\"}, {\"filter\": \"((datum.a + dii_floor + tiles_count) % tiles_count) >= 0 && (datum.b + djj_floor) >= 0 && ((datum.a + dii_floor + tiles_count) % tiles_count) <= tiles_count && (datum.b + djj_floor) <= tiles_count\"}]}, {\"data\": {\"name\": \"empty\"}, \"mark\": {\"type\": \"text\", \"align\": \"left\", \"dx\": 3, \"dy\": -8, \"text\": \"(C) OpenStreetMap contributors\"}, \"encoding\": {\"x\": {\"value\": 0}, \"y\": {\"value\": {\"expr\": \"height\"}}}}]}], \"params\": [{\"name\": \"base_tile_size\", \"value\": 256}, {\"name\": \"pr_scale\", \"expr\": \"400\"}, {\"name\": \"zoom_level\", \"expr\": \"log((2 * PI * pr_scale) / base_tile_size) / log(2)\"}, {\"name\": \"zoom_ceil\", \"expr\": \"ceil(zoom_level)\"}, {\"name\": \"tiles_count\", \"expr\": \"pow(2, zoom_ceil)\"}, {\"name\": \"tile_size\", \"expr\": \"base_tile_size * pow(2, zoom_level - zoom_ceil)\"}, {\"name\": \"base_point\", \"expr\": \"invert('projection', [0, 0])\"}, {\"name\": \"dii\", \"expr\": \"(base_point[0] + 180) / 360 * tiles_count\"}, {\"name\": \"dii_floor\", \"expr\": \"floor(dii)\"}, {\"name\": \"dx\", \"expr\": \"(dii_floor - dii) * tile_size\"}, {\"name\": \"djj\", \"expr\": \"(1 - log(tan(base_point[1] * PI / 180) + 1 / cos(base_point[1] * PI / 180)) / PI) / 2 * tiles_count\"}, {\"name\": \"djj_floor\", \"expr\": \"floor(djj)\"}, {\"name\": \"dy\", \"expr\": \"round((djj_floor - djj) * tile_size)\"}], \"$schema\": \"https://vega.github.io/schema/vega-lite/v5.8.0.json\", \"datasets\": {\"empty\": [{}]}}, {\"mode\": \"vega-lite\"});\n",
       "</script>"
      ],
      "text/plain": [
       "alt.LayerChart(...)"
      ]
     },
     "execution_count": 8,
     "metadata": {},
     "output_type": "execute_result"
    }
   ],
   "source": [
    "til.create_tiles_chart(geoshape_countries.projection)"
   ]
  },
  {
   "cell_type": "code",
   "execution_count": 9,
   "metadata": {},
   "outputs": [
    {
     "data": {
      "text/html": [
       "\n",
       "<style>\n",
       "  #altair-viz-c61e0d73d09c402694b4b4312ca5e8e6.vega-embed {\n",
       "    width: 100%;\n",
       "    display: flex;\n",
       "  }\n",
       "\n",
       "  #altair-viz-c61e0d73d09c402694b4b4312ca5e8e6.vega-embed details,\n",
       "  #altair-viz-c61e0d73d09c402694b4b4312ca5e8e6.vega-embed details summary {\n",
       "    position: relative;\n",
       "  }\n",
       "</style>\n",
       "<div id=\"altair-viz-c61e0d73d09c402694b4b4312ca5e8e6\"></div>\n",
       "<script type=\"text/javascript\">\n",
       "  var VEGA_DEBUG = (typeof VEGA_DEBUG == \"undefined\") ? {} : VEGA_DEBUG;\n",
       "  (function(spec, embedOpt){\n",
       "    let outputDiv = document.currentScript.previousElementSibling;\n",
       "    if (outputDiv.id !== \"altair-viz-c61e0d73d09c402694b4b4312ca5e8e6\") {\n",
       "      outputDiv = document.getElementById(\"altair-viz-c61e0d73d09c402694b4b4312ca5e8e6\");\n",
       "    }\n",
       "    const paths = {\n",
       "      \"vega\": \"https://cdn.jsdelivr.net/npm/vega@5?noext\",\n",
       "      \"vega-lib\": \"https://cdn.jsdelivr.net/npm/vega-lib?noext\",\n",
       "      \"vega-lite\": \"https://cdn.jsdelivr.net/npm/vega-lite@5.8.0?noext\",\n",
       "      \"vega-embed\": \"https://cdn.jsdelivr.net/npm/vega-embed@6?noext\",\n",
       "    };\n",
       "\n",
       "    function maybeLoadScript(lib, version) {\n",
       "      var key = `${lib.replace(\"-\", \"\")}_version`;\n",
       "      return (VEGA_DEBUG[key] == version) ?\n",
       "        Promise.resolve(paths[lib]) :\n",
       "        new Promise(function(resolve, reject) {\n",
       "          var s = document.createElement('script');\n",
       "          document.getElementsByTagName(\"head\")[0].appendChild(s);\n",
       "          s.async = true;\n",
       "          s.onload = () => {\n",
       "            VEGA_DEBUG[key] = version;\n",
       "            return resolve(paths[lib]);\n",
       "          };\n",
       "          s.onerror = () => reject(`Error loading script: ${paths[lib]}`);\n",
       "          s.src = paths[lib];\n",
       "        });\n",
       "    }\n",
       "\n",
       "    function showError(err) {\n",
       "      outputDiv.innerHTML = `<div class=\"error\" style=\"color:red;\">${err}</div>`;\n",
       "      throw err;\n",
       "    }\n",
       "\n",
       "    function displayChart(vegaEmbed) {\n",
       "      vegaEmbed(outputDiv, spec, embedOpt)\n",
       "        .catch(err => showError(`Javascript Error: ${err.message}<br>This usually means there's a typo in your chart specification. See the javascript console for the full traceback.`));\n",
       "    }\n",
       "\n",
       "    if(typeof define === \"function\" && define.amd) {\n",
       "      requirejs.config({paths});\n",
       "      require([\"vega-embed\"], displayChart, err => showError(`Error loading script: ${err.message}`));\n",
       "    } else {\n",
       "      maybeLoadScript(\"vega\", \"5\")\n",
       "        .then(() => maybeLoadScript(\"vega-lite\", \"5.8.0\"))\n",
       "        .then(() => maybeLoadScript(\"vega-embed\", \"6\"))\n",
       "        .catch(showError)\n",
       "        .then(() => displayChart(vegaEmbed));\n",
       "    }\n",
       "  })({\"config\": {\"view\": {\"continuousWidth\": 300, \"continuousHeight\": 300}}, \"layer\": [{\"data\": {\"name\": \"empty\"}, \"mark\": {\"type\": \"geoshape\"}, \"projection\": {\"center\": [0, 50], \"rotate\": [-10, 0, 0], \"scale\": 400, \"type\": \"mercator\"}}, {\"layer\": [{\"data\": {\"sequence\": {\"start\": 0, \"stop\": 18, \"as\": \"a\"}, \"name\": \"tile_list\"}, \"mark\": {\"type\": \"image\", \"clip\": true, \"height\": {\"expr\": \"tile_size + 1\"}, \"width\": {\"expr\": \"tile_size + 1\"}}, \"encoding\": {\"url\": {\"field\": \"url\", \"type\": \"nominal\"}, \"x\": {\"field\": \"x\", \"scale\": null, \"type\": \"quantitative\"}, \"y\": {\"field\": \"y\", \"scale\": null, \"type\": \"quantitative\"}}, \"projection\": {\"center\": [0, 50], \"rotate\": [-10, 0, 0], \"scale\": 400, \"type\": \"mercator\"}, \"transform\": [{\"calculate\": \"sequence(0, 18)\", \"as\": \"b\"}, {\"flatten\": [\"b\"]}, {\"calculate\": \"'https://tile.openstreetmap.org/' + zoom_ceil + '/' + ((datum.a + dii_floor + tiles_count) % tiles_count) + '/' + (datum.b + djj_floor) + '.png'\", \"as\": \"url\"}, {\"calculate\": \"datum.a * tile_size + dx + (tile_size / 2)\", \"as\": \"x\"}, {\"calculate\": \"datum.b * tile_size + dy + (tile_size / 2)\", \"as\": \"y\"}, {\"filter\": \"((datum.a + dii_floor + tiles_count) % tiles_count) >= 0 && (datum.b + djj_floor) >= 0 && ((datum.a + dii_floor + tiles_count) % tiles_count) <= tiles_count && (datum.b + djj_floor) <= tiles_count\"}]}, {\"data\": {\"name\": \"empty\"}, \"mark\": {\"type\": \"text\", \"align\": \"left\", \"dx\": 3, \"dy\": -8, \"text\": \"(C) OpenStreetMap contributors\"}, \"encoding\": {\"x\": {\"value\": 0}, \"y\": {\"value\": {\"expr\": \"height\"}}}}]}], \"params\": [{\"name\": \"base_tile_size\", \"value\": 256}, {\"name\": \"pr_scale\", \"expr\": \"400\"}, {\"name\": \"zoom_level\", \"expr\": \"log((2 * PI * pr_scale) / base_tile_size) / log(2)\"}, {\"name\": \"zoom_ceil\", \"expr\": \"ceil(zoom_level)\"}, {\"name\": \"tiles_count\", \"expr\": \"pow(2, zoom_ceil)\"}, {\"name\": \"tile_size\", \"expr\": \"base_tile_size * pow(2, zoom_level - zoom_ceil)\"}, {\"name\": \"base_point\", \"expr\": \"invert('projection', [0, 0])\"}, {\"name\": \"dii\", \"expr\": \"(base_point[0] + 180) / 360 * tiles_count\"}, {\"name\": \"dii_floor\", \"expr\": \"floor(dii)\"}, {\"name\": \"dx\", \"expr\": \"(dii_floor - dii) * tile_size\"}, {\"name\": \"djj\", \"expr\": \"(1 - log(tan(base_point[1] * PI / 180) + 1 / cos(base_point[1] * PI / 180)) / PI) / 2 * tiles_count\"}, {\"name\": \"djj_floor\", \"expr\": \"floor(djj)\"}, {\"name\": \"dy\", \"expr\": \"round((djj_floor - djj) * tile_size)\"}], \"$schema\": \"https://vega.github.io/schema/vega-lite/v5.8.0.json\", \"datasets\": {\"empty\": [{}]}}, {\"mode\": \"vega-lite\"});\n",
       "</script>"
      ],
      "text/plain": [
       "alt.LayerChart(...)"
      ]
     },
     "execution_count": 9,
     "metadata": {},
     "output_type": "execute_result"
    }
   ],
   "source": [
    "standalone_tiles_chart = til.create_tiles_chart(geoshape_countries.projection)\n",
    "standalone_tiles_chart"
   ]
  },
  {
   "cell_type": "code",
   "execution_count": 10,
   "metadata": {},
   "outputs": [
    {
     "data": {
      "text/html": [
       "\n",
       "<style>\n",
       "  #altair-viz-1a223dc206ee494fa3dfe14f82d2f9ea.vega-embed {\n",
       "    width: 100%;\n",
       "    display: flex;\n",
       "  }\n",
       "\n",
       "  #altair-viz-1a223dc206ee494fa3dfe14f82d2f9ea.vega-embed details,\n",
       "  #altair-viz-1a223dc206ee494fa3dfe14f82d2f9ea.vega-embed details summary {\n",
       "    position: relative;\n",
       "  }\n",
       "</style>\n",
       "<div id=\"altair-viz-1a223dc206ee494fa3dfe14f82d2f9ea\"></div>\n",
       "<script type=\"text/javascript\">\n",
       "  var VEGA_DEBUG = (typeof VEGA_DEBUG == \"undefined\") ? {} : VEGA_DEBUG;\n",
       "  (function(spec, embedOpt){\n",
       "    let outputDiv = document.currentScript.previousElementSibling;\n",
       "    if (outputDiv.id !== \"altair-viz-1a223dc206ee494fa3dfe14f82d2f9ea\") {\n",
       "      outputDiv = document.getElementById(\"altair-viz-1a223dc206ee494fa3dfe14f82d2f9ea\");\n",
       "    }\n",
       "    const paths = {\n",
       "      \"vega\": \"https://cdn.jsdelivr.net/npm/vega@5?noext\",\n",
       "      \"vega-lib\": \"https://cdn.jsdelivr.net/npm/vega-lib?noext\",\n",
       "      \"vega-lite\": \"https://cdn.jsdelivr.net/npm/vega-lite@5.8.0?noext\",\n",
       "      \"vega-embed\": \"https://cdn.jsdelivr.net/npm/vega-embed@6?noext\",\n",
       "    };\n",
       "\n",
       "    function maybeLoadScript(lib, version) {\n",
       "      var key = `${lib.replace(\"-\", \"\")}_version`;\n",
       "      return (VEGA_DEBUG[key] == version) ?\n",
       "        Promise.resolve(paths[lib]) :\n",
       "        new Promise(function(resolve, reject) {\n",
       "          var s = document.createElement('script');\n",
       "          document.getElementsByTagName(\"head\")[0].appendChild(s);\n",
       "          s.async = true;\n",
       "          s.onload = () => {\n",
       "            VEGA_DEBUG[key] = version;\n",
       "            return resolve(paths[lib]);\n",
       "          };\n",
       "          s.onerror = () => reject(`Error loading script: ${paths[lib]}`);\n",
       "          s.src = paths[lib];\n",
       "        });\n",
       "    }\n",
       "\n",
       "    function showError(err) {\n",
       "      outputDiv.innerHTML = `<div class=\"error\" style=\"color:red;\">${err}</div>`;\n",
       "      throw err;\n",
       "    }\n",
       "\n",
       "    function displayChart(vegaEmbed) {\n",
       "      vegaEmbed(outputDiv, spec, embedOpt)\n",
       "        .catch(err => showError(`Javascript Error: ${err.message}<br>This usually means there's a typo in your chart specification. See the javascript console for the full traceback.`));\n",
       "    }\n",
       "\n",
       "    if(typeof define === \"function\" && define.amd) {\n",
       "      requirejs.config({paths});\n",
       "      require([\"vega-embed\"], displayChart, err => showError(`Error loading script: ${err.message}`));\n",
       "    } else {\n",
       "      maybeLoadScript(\"vega\", \"5\")\n",
       "        .then(() => maybeLoadScript(\"vega-lite\", \"5.8.0\"))\n",
       "        .then(() => maybeLoadScript(\"vega-embed\", \"6\"))\n",
       "        .catch(showError)\n",
       "        .then(() => displayChart(vegaEmbed));\n",
       "    }\n",
       "  })({\"config\": {\"view\": {\"continuousWidth\": 300, \"continuousHeight\": 300}}, \"layer\": [{\"data\": {\"name\": \"empty\"}, \"mark\": {\"type\": \"geoshape\"}, \"projection\": {\"center\": [0, 50], \"rotate\": [-10, 0, 0], \"scale\": 400, \"type\": \"mercator\"}}, {\"layer\": [{\"data\": {\"sequence\": {\"start\": 0, \"stop\": 18, \"as\": \"a\"}, \"name\": \"tile_list\"}, \"mark\": {\"type\": \"image\", \"clip\": true, \"height\": {\"expr\": \"tile_size + 1\"}, \"width\": {\"expr\": \"tile_size + 1\"}}, \"encoding\": {\"url\": {\"field\": \"url\", \"type\": \"nominal\"}, \"x\": {\"field\": \"x\", \"scale\": null, \"type\": \"quantitative\"}, \"y\": {\"field\": \"y\", \"scale\": null, \"type\": \"quantitative\"}}, \"projection\": {\"center\": [0, 50], \"rotate\": [-10, 0, 0], \"scale\": 400, \"type\": \"mercator\"}, \"transform\": [{\"calculate\": \"sequence(0, 18)\", \"as\": \"b\"}, {\"flatten\": [\"b\"]}, {\"calculate\": \"'https://tile.openstreetmap.org/' + zoom_ceil + '/' + ((datum.a + dii_floor + tiles_count) % tiles_count) + '/' + (datum.b + djj_floor) + '.png'\", \"as\": \"url\"}, {\"calculate\": \"datum.a * tile_size + dx + (tile_size / 2)\", \"as\": \"x\"}, {\"calculate\": \"datum.b * tile_size + dy + (tile_size / 2)\", \"as\": \"y\"}, {\"filter\": \"((datum.a + dii_floor + tiles_count) % tiles_count) >= 0 && (datum.b + djj_floor) >= 0 && ((datum.a + dii_floor + tiles_count) % tiles_count) <= tiles_count && (datum.b + djj_floor) <= tiles_count\"}]}, {\"data\": {\"name\": \"empty\"}, \"mark\": {\"type\": \"text\", \"align\": \"left\", \"dx\": 3, \"dy\": -8, \"text\": \"(C) OpenStreetMap contributors\"}, \"encoding\": {\"x\": {\"value\": 0}, \"y\": {\"value\": {\"expr\": \"height\"}}}}]}], \"height\": 500, \"params\": [{\"name\": \"base_tile_size\", \"value\": 256}, {\"name\": \"pr_scale\", \"expr\": \"400\"}, {\"name\": \"zoom_level\", \"expr\": \"log((2 * PI * pr_scale) / base_tile_size) / log(2)\"}, {\"name\": \"zoom_ceil\", \"expr\": \"ceil(zoom_level)\"}, {\"name\": \"tiles_count\", \"expr\": \"pow(2, zoom_ceil)\"}, {\"name\": \"tile_size\", \"expr\": \"base_tile_size * pow(2, zoom_level - zoom_ceil)\"}, {\"name\": \"base_point\", \"expr\": \"invert('projection', [0, 0])\"}, {\"name\": \"dii\", \"expr\": \"(base_point[0] + 180) / 360 * tiles_count\"}, {\"name\": \"dii_floor\", \"expr\": \"floor(dii)\"}, {\"name\": \"dx\", \"expr\": \"(dii_floor - dii) * tile_size\"}, {\"name\": \"djj\", \"expr\": \"(1 - log(tan(base_point[1] * PI / 180) + 1 / cos(base_point[1] * PI / 180)) / PI) / 2 * tiles_count\"}, {\"name\": \"djj_floor\", \"expr\": \"floor(djj)\"}, {\"name\": \"dy\", \"expr\": \"round((djj_floor - djj) * tile_size)\"}], \"width\": 500, \"$schema\": \"https://vega.github.io/schema/vega-lite/v5.8.0.json\", \"datasets\": {\"empty\": [{}]}}, {\"mode\": \"vega-lite\"});\n",
       "</script>"
      ],
      "text/plain": [
       "alt.LayerChart(...)"
      ]
     },
     "execution_count": 10,
     "metadata": {},
     "output_type": "execute_result"
    }
   ],
   "source": [
    "standalone_tiles_chart.properties(width=500, height=500)"
   ]
  },
  {
   "cell_type": "code",
   "execution_count": 11,
   "metadata": {},
   "outputs": [
    {
     "data": {
      "text/html": [
       "\n",
       "<style>\n",
       "  #altair-viz-21ad7cca4b3645449102c8ffe4a15fca.vega-embed {\n",
       "    width: 100%;\n",
       "    display: flex;\n",
       "  }\n",
       "\n",
       "  #altair-viz-21ad7cca4b3645449102c8ffe4a15fca.vega-embed details,\n",
       "  #altair-viz-21ad7cca4b3645449102c8ffe4a15fca.vega-embed details summary {\n",
       "    position: relative;\n",
       "  }\n",
       "</style>\n",
       "<div id=\"altair-viz-21ad7cca4b3645449102c8ffe4a15fca\"></div>\n",
       "<script type=\"text/javascript\">\n",
       "  var VEGA_DEBUG = (typeof VEGA_DEBUG == \"undefined\") ? {} : VEGA_DEBUG;\n",
       "  (function(spec, embedOpt){\n",
       "    let outputDiv = document.currentScript.previousElementSibling;\n",
       "    if (outputDiv.id !== \"altair-viz-21ad7cca4b3645449102c8ffe4a15fca\") {\n",
       "      outputDiv = document.getElementById(\"altair-viz-21ad7cca4b3645449102c8ffe4a15fca\");\n",
       "    }\n",
       "    const paths = {\n",
       "      \"vega\": \"https://cdn.jsdelivr.net/npm/vega@5?noext\",\n",
       "      \"vega-lib\": \"https://cdn.jsdelivr.net/npm/vega-lib?noext\",\n",
       "      \"vega-lite\": \"https://cdn.jsdelivr.net/npm/vega-lite@5.8.0?noext\",\n",
       "      \"vega-embed\": \"https://cdn.jsdelivr.net/npm/vega-embed@6?noext\",\n",
       "    };\n",
       "\n",
       "    function maybeLoadScript(lib, version) {\n",
       "      var key = `${lib.replace(\"-\", \"\")}_version`;\n",
       "      return (VEGA_DEBUG[key] == version) ?\n",
       "        Promise.resolve(paths[lib]) :\n",
       "        new Promise(function(resolve, reject) {\n",
       "          var s = document.createElement('script');\n",
       "          document.getElementsByTagName(\"head\")[0].appendChild(s);\n",
       "          s.async = true;\n",
       "          s.onload = () => {\n",
       "            VEGA_DEBUG[key] = version;\n",
       "            return resolve(paths[lib]);\n",
       "          };\n",
       "          s.onerror = () => reject(`Error loading script: ${paths[lib]}`);\n",
       "          s.src = paths[lib];\n",
       "        });\n",
       "    }\n",
       "\n",
       "    function showError(err) {\n",
       "      outputDiv.innerHTML = `<div class=\"error\" style=\"color:red;\">${err}</div>`;\n",
       "      throw err;\n",
       "    }\n",
       "\n",
       "    function displayChart(vegaEmbed) {\n",
       "      vegaEmbed(outputDiv, spec, embedOpt)\n",
       "        .catch(err => showError(`Javascript Error: ${err.message}<br>This usually means there's a typo in your chart specification. See the javascript console for the full traceback.`));\n",
       "    }\n",
       "\n",
       "    if(typeof define === \"function\" && define.amd) {\n",
       "      requirejs.config({paths});\n",
       "      require([\"vega-embed\"], displayChart, err => showError(`Error loading script: ${err.message}`));\n",
       "    } else {\n",
       "      maybeLoadScript(\"vega\", \"5\")\n",
       "        .then(() => maybeLoadScript(\"vega-lite\", \"5.8.0\"))\n",
       "        .then(() => maybeLoadScript(\"vega-embed\", \"6\"))\n",
       "        .catch(showError)\n",
       "        .then(() => displayChart(vegaEmbed));\n",
       "    }\n",
       "  })({\"config\": {\"view\": {\"continuousWidth\": 300, \"continuousHeight\": 300}}, \"layer\": [{\"data\": {\"name\": \"empty\"}, \"mark\": {\"type\": \"geoshape\"}, \"projection\": {\"center\": [0, 50], \"rotate\": [-10, 0, 0], \"scale\": 400, \"type\": \"mercator\"}}, {\"layer\": [{\"data\": {\"sequence\": {\"start\": 0, \"stop\": 18, \"as\": \"a\"}, \"name\": \"tile_list\"}, \"mark\": {\"type\": \"image\", \"clip\": true, \"height\": {\"expr\": \"tile_size + 1\"}, \"width\": {\"expr\": \"tile_size + 1\"}}, \"encoding\": {\"url\": {\"field\": \"url\", \"type\": \"nominal\"}, \"x\": {\"field\": \"x\", \"scale\": null, \"type\": \"quantitative\"}, \"y\": {\"field\": \"y\", \"scale\": null, \"type\": \"quantitative\"}}, \"projection\": {\"center\": [0, 50], \"rotate\": [-10, 0, 0], \"scale\": 400, \"type\": \"mercator\"}, \"transform\": [{\"calculate\": \"sequence(0, 18)\", \"as\": \"b\"}, {\"flatten\": [\"b\"]}, {\"calculate\": \"'https://tile.openstreetmap.org/' + zoom_ceil + '/' + ((datum.a + dii_floor + tiles_count) % tiles_count) + '/' + (datum.b + djj_floor) + '.png'\", \"as\": \"url\"}, {\"calculate\": \"datum.a * tile_size + dx + (tile_size / 2)\", \"as\": \"x\"}, {\"calculate\": \"datum.b * tile_size + dy + (tile_size / 2)\", \"as\": \"y\"}, {\"filter\": \"((datum.a + dii_floor + tiles_count) % tiles_count) >= 0 && (datum.b + djj_floor) >= 0 && ((datum.a + dii_floor + tiles_count) % tiles_count) <= tiles_count && (datum.b + djj_floor) <= tiles_count\"}]}, {\"data\": {\"name\": \"empty\"}, \"mark\": {\"type\": \"text\", \"align\": \"left\", \"dx\": 3, \"dy\": -8, \"text\": \"(C) OpenStreetMap contributors\"}, \"encoding\": {\"x\": {\"value\": 0}, \"y\": {\"value\": {\"expr\": \"height\"}}}}]}, {\"data\": {\"url\": \"https://cdn.jsdelivr.net/npm/vega-datasets@v1.29.0/data/world-110m.json\", \"format\": {\"feature\": \"countries\", \"type\": \"topojson\"}}, \"mark\": {\"type\": \"geoshape\", \"fillOpacity\": 0.1, \"stroke\": \"orange\", \"strokeWidth\": 2}, \"encoding\": {\"fill\": {\"field\": \"id\", \"legend\": null, \"type\": \"quantitative\"}}, \"projection\": {\"center\": [0, 50], \"rotate\": [-10, 0, 0], \"scale\": 400, \"type\": \"mercator\"}}], \"height\": 600, \"params\": [{\"name\": \"base_tile_size\", \"value\": 256}, {\"name\": \"pr_scale\", \"expr\": \"400\"}, {\"name\": \"zoom_level\", \"expr\": \"log((2 * PI * pr_scale) / base_tile_size) / log(2)\"}, {\"name\": \"zoom_ceil\", \"expr\": \"ceil(zoom_level)\"}, {\"name\": \"tiles_count\", \"expr\": \"pow(2, zoom_ceil)\"}, {\"name\": \"tile_size\", \"expr\": \"base_tile_size * pow(2, zoom_level - zoom_ceil)\"}, {\"name\": \"base_point\", \"expr\": \"invert('projection', [0, 0])\"}, {\"name\": \"dii\", \"expr\": \"(base_point[0] + 180) / 360 * tiles_count\"}, {\"name\": \"dii_floor\", \"expr\": \"floor(dii)\"}, {\"name\": \"dx\", \"expr\": \"(dii_floor - dii) * tile_size\"}, {\"name\": \"djj\", \"expr\": \"(1 - log(tan(base_point[1] * PI / 180) + 1 / cos(base_point[1] * PI / 180)) / PI) / 2 * tiles_count\"}, {\"name\": \"djj_floor\", \"expr\": \"floor(djj)\"}, {\"name\": \"dy\", \"expr\": \"round((djj_floor - djj) * tile_size)\"}], \"width\": 600, \"$schema\": \"https://vega.github.io/schema/vega-lite/v5.8.0.json\", \"datasets\": {\"empty\": [{}]}}, {\"mode\": \"vega-lite\"});\n",
       "</script>"
      ],
      "text/plain": [
       "alt.LayerChart(...)"
      ]
     },
     "execution_count": 11,
     "metadata": {},
     "output_type": "execute_result"
    }
   ],
   "source": [
    "c2 = standalone_tiles_chart + geoshape_countries\n",
    "c2"
   ]
  },
  {
   "attachments": {},
   "cell_type": "markdown",
   "metadata": {},
   "source": [
    "Same but with attribution layered on top so that it is not hidden"
   ]
  },
  {
   "cell_type": "code",
   "execution_count": 12,
   "metadata": {},
   "outputs": [
    {
     "data": {
      "text/html": [
       "\n",
       "<style>\n",
       "  #altair-viz-93a4d32e05c04e35bc1e9648779d2757.vega-embed {\n",
       "    width: 100%;\n",
       "    display: flex;\n",
       "  }\n",
       "\n",
       "  #altair-viz-93a4d32e05c04e35bc1e9648779d2757.vega-embed details,\n",
       "  #altair-viz-93a4d32e05c04e35bc1e9648779d2757.vega-embed details summary {\n",
       "    position: relative;\n",
       "  }\n",
       "</style>\n",
       "<div id=\"altair-viz-93a4d32e05c04e35bc1e9648779d2757\"></div>\n",
       "<script type=\"text/javascript\">\n",
       "  var VEGA_DEBUG = (typeof VEGA_DEBUG == \"undefined\") ? {} : VEGA_DEBUG;\n",
       "  (function(spec, embedOpt){\n",
       "    let outputDiv = document.currentScript.previousElementSibling;\n",
       "    if (outputDiv.id !== \"altair-viz-93a4d32e05c04e35bc1e9648779d2757\") {\n",
       "      outputDiv = document.getElementById(\"altair-viz-93a4d32e05c04e35bc1e9648779d2757\");\n",
       "    }\n",
       "    const paths = {\n",
       "      \"vega\": \"https://cdn.jsdelivr.net/npm/vega@5?noext\",\n",
       "      \"vega-lib\": \"https://cdn.jsdelivr.net/npm/vega-lib?noext\",\n",
       "      \"vega-lite\": \"https://cdn.jsdelivr.net/npm/vega-lite@5.8.0?noext\",\n",
       "      \"vega-embed\": \"https://cdn.jsdelivr.net/npm/vega-embed@6?noext\",\n",
       "    };\n",
       "\n",
       "    function maybeLoadScript(lib, version) {\n",
       "      var key = `${lib.replace(\"-\", \"\")}_version`;\n",
       "      return (VEGA_DEBUG[key] == version) ?\n",
       "        Promise.resolve(paths[lib]) :\n",
       "        new Promise(function(resolve, reject) {\n",
       "          var s = document.createElement('script');\n",
       "          document.getElementsByTagName(\"head\")[0].appendChild(s);\n",
       "          s.async = true;\n",
       "          s.onload = () => {\n",
       "            VEGA_DEBUG[key] = version;\n",
       "            return resolve(paths[lib]);\n",
       "          };\n",
       "          s.onerror = () => reject(`Error loading script: ${paths[lib]}`);\n",
       "          s.src = paths[lib];\n",
       "        });\n",
       "    }\n",
       "\n",
       "    function showError(err) {\n",
       "      outputDiv.innerHTML = `<div class=\"error\" style=\"color:red;\">${err}</div>`;\n",
       "      throw err;\n",
       "    }\n",
       "\n",
       "    function displayChart(vegaEmbed) {\n",
       "      vegaEmbed(outputDiv, spec, embedOpt)\n",
       "        .catch(err => showError(`Javascript Error: ${err.message}<br>This usually means there's a typo in your chart specification. See the javascript console for the full traceback.`));\n",
       "    }\n",
       "\n",
       "    if(typeof define === \"function\" && define.amd) {\n",
       "      requirejs.config({paths});\n",
       "      require([\"vega-embed\"], displayChart, err => showError(`Error loading script: ${err.message}`));\n",
       "    } else {\n",
       "      maybeLoadScript(\"vega\", \"5\")\n",
       "        .then(() => maybeLoadScript(\"vega-lite\", \"5.8.0\"))\n",
       "        .then(() => maybeLoadScript(\"vega-embed\", \"6\"))\n",
       "        .catch(showError)\n",
       "        .then(() => displayChart(vegaEmbed));\n",
       "    }\n",
       "  })({\"config\": {\"view\": {\"continuousWidth\": 300, \"continuousHeight\": 300}}, \"layer\": [{\"data\": {\"name\": \"empty\"}, \"mark\": {\"type\": \"geoshape\"}, \"projection\": {\"center\": [0, 50], \"rotate\": [-10, 0, 0], \"scale\": 400, \"type\": \"mercator\"}}, {\"data\": {\"sequence\": {\"start\": 0, \"stop\": 18, \"as\": \"a\"}, \"name\": \"tile_list\"}, \"mark\": {\"type\": \"image\", \"clip\": true, \"height\": {\"expr\": \"tile_size + 1\"}, \"width\": {\"expr\": \"tile_size + 1\"}}, \"encoding\": {\"url\": {\"field\": \"url\", \"type\": \"nominal\"}, \"x\": {\"field\": \"x\", \"scale\": null, \"type\": \"quantitative\"}, \"y\": {\"field\": \"y\", \"scale\": null, \"type\": \"quantitative\"}}, \"projection\": {\"center\": [0, 50], \"rotate\": [-10, 0, 0], \"scale\": 400, \"type\": \"mercator\"}, \"transform\": [{\"calculate\": \"sequence(0, 18)\", \"as\": \"b\"}, {\"flatten\": [\"b\"]}, {\"calculate\": \"'https://tile.openstreetmap.org/' + zoom_ceil + '/' + ((datum.a + dii_floor + tiles_count) % tiles_count) + '/' + (datum.b + djj_floor) + '.png'\", \"as\": \"url\"}, {\"calculate\": \"datum.a * tile_size + dx + (tile_size / 2)\", \"as\": \"x\"}, {\"calculate\": \"datum.b * tile_size + dy + (tile_size / 2)\", \"as\": \"y\"}, {\"filter\": \"((datum.a + dii_floor + tiles_count) % tiles_count) >= 0 && (datum.b + djj_floor) >= 0 && ((datum.a + dii_floor + tiles_count) % tiles_count) <= tiles_count && (datum.b + djj_floor) <= tiles_count\"}]}, {\"data\": {\"url\": \"https://cdn.jsdelivr.net/npm/vega-datasets@v1.29.0/data/world-110m.json\", \"format\": {\"feature\": \"countries\", \"type\": \"topojson\"}}, \"mark\": {\"type\": \"geoshape\", \"fillOpacity\": 0.1, \"stroke\": \"orange\", \"strokeWidth\": 2}, \"encoding\": {\"fill\": {\"field\": \"id\", \"legend\": null, \"type\": \"quantitative\"}}, \"projection\": {\"center\": [0, 50], \"rotate\": [-10, 0, 0], \"scale\": 400, \"type\": \"mercator\"}}, {\"data\": {\"name\": \"empty\"}, \"mark\": {\"type\": \"text\", \"align\": \"left\", \"dx\": 3, \"dy\": -8, \"text\": \"(C) OpenStreetMap contributors\"}, \"encoding\": {\"x\": {\"value\": 0}, \"y\": {\"value\": {\"expr\": \"height\"}}}}], \"height\": 600, \"params\": [{\"name\": \"base_tile_size\", \"value\": 256}, {\"name\": \"pr_scale\", \"expr\": \"400\"}, {\"name\": \"zoom_level\", \"expr\": \"log((2 * PI * pr_scale) / base_tile_size) / log(2)\"}, {\"name\": \"zoom_ceil\", \"expr\": \"ceil(zoom_level)\"}, {\"name\": \"tiles_count\", \"expr\": \"pow(2, zoom_ceil)\"}, {\"name\": \"tile_size\", \"expr\": \"base_tile_size * pow(2, zoom_level - zoom_ceil)\"}, {\"name\": \"base_point\", \"expr\": \"invert('projection', [0, 0])\"}, {\"name\": \"dii\", \"expr\": \"(base_point[0] + 180) / 360 * tiles_count\"}, {\"name\": \"dii_floor\", \"expr\": \"floor(dii)\"}, {\"name\": \"dx\", \"expr\": \"(dii_floor - dii) * tile_size\"}, {\"name\": \"djj\", \"expr\": \"(1 - log(tan(base_point[1] * PI / 180) + 1 / cos(base_point[1] * PI / 180)) / PI) / 2 * tiles_count\"}, {\"name\": \"djj_floor\", \"expr\": \"floor(djj)\"}, {\"name\": \"dy\", \"expr\": \"round((djj_floor - djj) * tile_size)\"}], \"width\": 600, \"$schema\": \"https://vega.github.io/schema/vega-lite/v5.8.0.json\", \"datasets\": {\"empty\": [{}]}}, {\"mode\": \"vega-lite\"});\n",
       "</script>"
      ],
      "text/plain": [
       "alt.LayerChart(...)"
      ]
     },
     "execution_count": 12,
     "metadata": {},
     "output_type": "execute_result"
    }
   ],
   "source": [
    "c3 = til.add_attribution(\n",
    "    til.create_tiles_chart(geoshape_countries.projection, attribution=False)\n",
    "    + geoshape_countries\n",
    ")\n",
    "c3"
   ]
  },
  {
   "attachments": {},
   "cell_type": "markdown",
   "metadata": {},
   "source": [
    "Has 4 layers with one of them being an empty geoshape mark which was added in create_tiles_chart. Can use the `standalone` flag to not include it. This is useful if the tiles are not used as a standalone chart but are part of a more complex chart which already contains a geoshape mark."
   ]
  },
  {
   "cell_type": "code",
   "execution_count": 13,
   "metadata": {},
   "outputs": [
    {
     "data": {
      "text/plain": [
       "[alt.Chart(...), alt.Chart(...), alt.Chart(...), alt.Chart(...)]"
      ]
     },
     "execution_count": 13,
     "metadata": {},
     "output_type": "execute_result"
    }
   ],
   "source": [
    "c3.layer"
   ]
  },
  {
   "cell_type": "code",
   "execution_count": 14,
   "metadata": {},
   "outputs": [
    {
     "data": {
      "text/html": [
       "\n",
       "<style>\n",
       "  #altair-viz-61937e1410c34758b4ecb0b2cd1707b3.vega-embed {\n",
       "    width: 100%;\n",
       "    display: flex;\n",
       "  }\n",
       "\n",
       "  #altair-viz-61937e1410c34758b4ecb0b2cd1707b3.vega-embed details,\n",
       "  #altair-viz-61937e1410c34758b4ecb0b2cd1707b3.vega-embed details summary {\n",
       "    position: relative;\n",
       "  }\n",
       "</style>\n",
       "<div id=\"altair-viz-61937e1410c34758b4ecb0b2cd1707b3\"></div>\n",
       "<script type=\"text/javascript\">\n",
       "  var VEGA_DEBUG = (typeof VEGA_DEBUG == \"undefined\") ? {} : VEGA_DEBUG;\n",
       "  (function(spec, embedOpt){\n",
       "    let outputDiv = document.currentScript.previousElementSibling;\n",
       "    if (outputDiv.id !== \"altair-viz-61937e1410c34758b4ecb0b2cd1707b3\") {\n",
       "      outputDiv = document.getElementById(\"altair-viz-61937e1410c34758b4ecb0b2cd1707b3\");\n",
       "    }\n",
       "    const paths = {\n",
       "      \"vega\": \"https://cdn.jsdelivr.net/npm/vega@5?noext\",\n",
       "      \"vega-lib\": \"https://cdn.jsdelivr.net/npm/vega-lib?noext\",\n",
       "      \"vega-lite\": \"https://cdn.jsdelivr.net/npm/vega-lite@5.8.0?noext\",\n",
       "      \"vega-embed\": \"https://cdn.jsdelivr.net/npm/vega-embed@6?noext\",\n",
       "    };\n",
       "\n",
       "    function maybeLoadScript(lib, version) {\n",
       "      var key = `${lib.replace(\"-\", \"\")}_version`;\n",
       "      return (VEGA_DEBUG[key] == version) ?\n",
       "        Promise.resolve(paths[lib]) :\n",
       "        new Promise(function(resolve, reject) {\n",
       "          var s = document.createElement('script');\n",
       "          document.getElementsByTagName(\"head\")[0].appendChild(s);\n",
       "          s.async = true;\n",
       "          s.onload = () => {\n",
       "            VEGA_DEBUG[key] = version;\n",
       "            return resolve(paths[lib]);\n",
       "          };\n",
       "          s.onerror = () => reject(`Error loading script: ${paths[lib]}`);\n",
       "          s.src = paths[lib];\n",
       "        });\n",
       "    }\n",
       "\n",
       "    function showError(err) {\n",
       "      outputDiv.innerHTML = `<div class=\"error\" style=\"color:red;\">${err}</div>`;\n",
       "      throw err;\n",
       "    }\n",
       "\n",
       "    function displayChart(vegaEmbed) {\n",
       "      vegaEmbed(outputDiv, spec, embedOpt)\n",
       "        .catch(err => showError(`Javascript Error: ${err.message}<br>This usually means there's a typo in your chart specification. See the javascript console for the full traceback.`));\n",
       "    }\n",
       "\n",
       "    if(typeof define === \"function\" && define.amd) {\n",
       "      requirejs.config({paths});\n",
       "      require([\"vega-embed\"], displayChart, err => showError(`Error loading script: ${err.message}`));\n",
       "    } else {\n",
       "      maybeLoadScript(\"vega\", \"5\")\n",
       "        .then(() => maybeLoadScript(\"vega-lite\", \"5.8.0\"))\n",
       "        .then(() => maybeLoadScript(\"vega-embed\", \"6\"))\n",
       "        .catch(showError)\n",
       "        .then(() => displayChart(vegaEmbed));\n",
       "    }\n",
       "  })({\"config\": {\"view\": {\"continuousWidth\": 300, \"continuousHeight\": 300}}, \"layer\": [{\"data\": {\"sequence\": {\"start\": 0, \"stop\": 18, \"as\": \"a\"}, \"name\": \"tile_list\"}, \"mark\": {\"type\": \"image\", \"clip\": true, \"height\": {\"expr\": \"tile_size + 1\"}, \"width\": {\"expr\": \"tile_size + 1\"}}, \"encoding\": {\"url\": {\"field\": \"url\", \"type\": \"nominal\"}, \"x\": {\"field\": \"x\", \"scale\": null, \"type\": \"quantitative\"}, \"y\": {\"field\": \"y\", \"scale\": null, \"type\": \"quantitative\"}}, \"projection\": {\"center\": [0, 50], \"rotate\": [-10, 0, 0], \"scale\": 400, \"type\": \"mercator\"}, \"transform\": [{\"calculate\": \"sequence(0, 18)\", \"as\": \"b\"}, {\"flatten\": [\"b\"]}, {\"calculate\": \"'https://tile.openstreetmap.org/' + zoom_ceil + '/' + ((datum.a + dii_floor + tiles_count) % tiles_count) + '/' + (datum.b + djj_floor) + '.png'\", \"as\": \"url\"}, {\"calculate\": \"datum.a * tile_size + dx + (tile_size / 2)\", \"as\": \"x\"}, {\"calculate\": \"datum.b * tile_size + dy + (tile_size / 2)\", \"as\": \"y\"}, {\"filter\": \"((datum.a + dii_floor + tiles_count) % tiles_count) >= 0 && (datum.b + djj_floor) >= 0 && ((datum.a + dii_floor + tiles_count) % tiles_count) <= tiles_count && (datum.b + djj_floor) <= tiles_count\"}]}, {\"data\": {\"url\": \"https://cdn.jsdelivr.net/npm/vega-datasets@v1.29.0/data/world-110m.json\", \"format\": {\"feature\": \"countries\", \"type\": \"topojson\"}}, \"mark\": {\"type\": \"geoshape\", \"fillOpacity\": 0.1, \"stroke\": \"orange\", \"strokeWidth\": 2}, \"encoding\": {\"fill\": {\"field\": \"id\", \"legend\": null, \"type\": \"quantitative\"}}, \"projection\": {\"center\": [0, 50], \"rotate\": [-10, 0, 0], \"scale\": 400, \"type\": \"mercator\"}}, {\"data\": {\"name\": \"empty\"}, \"mark\": {\"type\": \"text\", \"align\": \"left\", \"dx\": 3, \"dy\": -8, \"text\": \"(C) OpenStreetMap contributors\"}, \"encoding\": {\"x\": {\"value\": 0}, \"y\": {\"value\": {\"expr\": \"height\"}}}}], \"height\": 600, \"params\": [{\"name\": \"base_tile_size\", \"value\": 256}, {\"name\": \"pr_scale\", \"expr\": \"400\"}, {\"name\": \"zoom_level\", \"expr\": \"log((2 * PI * pr_scale) / base_tile_size) / log(2)\"}, {\"name\": \"zoom_ceil\", \"expr\": \"ceil(zoom_level)\"}, {\"name\": \"tiles_count\", \"expr\": \"pow(2, zoom_ceil)\"}, {\"name\": \"tile_size\", \"expr\": \"base_tile_size * pow(2, zoom_level - zoom_ceil)\"}, {\"name\": \"base_point\", \"expr\": \"invert('projection', [0, 0])\"}, {\"name\": \"dii\", \"expr\": \"(base_point[0] + 180) / 360 * tiles_count\"}, {\"name\": \"dii_floor\", \"expr\": \"floor(dii)\"}, {\"name\": \"dx\", \"expr\": \"(dii_floor - dii) * tile_size\"}, {\"name\": \"djj\", \"expr\": \"(1 - log(tan(base_point[1] * PI / 180) + 1 / cos(base_point[1] * PI / 180)) / PI) / 2 * tiles_count\"}, {\"name\": \"djj_floor\", \"expr\": \"floor(djj)\"}, {\"name\": \"dy\", \"expr\": \"round((djj_floor - djj) * tile_size)\"}], \"width\": 600, \"$schema\": \"https://vega.github.io/schema/vega-lite/v5.8.0.json\", \"datasets\": {\"empty\": [{}]}}, {\"mode\": \"vega-lite\"});\n",
       "</script>"
      ],
      "text/plain": [
       "alt.LayerChart(...)"
      ]
     },
     "execution_count": 14,
     "metadata": {},
     "output_type": "execute_result"
    }
   ],
   "source": [
    "c3_3layers = til.add_attribution(\n",
    "    til.create_tiles_chart(geoshape_countries.projection, attribution=False, standalone=False)\n",
    "    + geoshape_countries\n",
    ")\n",
    "c3_3layers"
   ]
  },
  {
   "cell_type": "code",
   "execution_count": 15,
   "metadata": {},
   "outputs": [
    {
     "data": {
      "text/plain": [
       "[alt.Chart(...), alt.Chart(...), alt.Chart(...)]"
      ]
     },
     "execution_count": 15,
     "metadata": {},
     "output_type": "execute_result"
    }
   ],
   "source": [
    "c3_3layers.layer"
   ]
  },
  {
   "attachments": {},
   "cell_type": "markdown",
   "metadata": {},
   "source": [
    "Change zoom"
   ]
  },
  {
   "cell_type": "code",
   "execution_count": 16,
   "metadata": {},
   "outputs": [
    {
     "data": {
      "text/html": [
       "\n",
       "<style>\n",
       "  #altair-viz-287399bb053043c5856622111ae2bee6.vega-embed {\n",
       "    width: 100%;\n",
       "    display: flex;\n",
       "  }\n",
       "\n",
       "  #altair-viz-287399bb053043c5856622111ae2bee6.vega-embed details,\n",
       "  #altair-viz-287399bb053043c5856622111ae2bee6.vega-embed details summary {\n",
       "    position: relative;\n",
       "  }\n",
       "</style>\n",
       "<div id=\"altair-viz-287399bb053043c5856622111ae2bee6\"></div>\n",
       "<script type=\"text/javascript\">\n",
       "  var VEGA_DEBUG = (typeof VEGA_DEBUG == \"undefined\") ? {} : VEGA_DEBUG;\n",
       "  (function(spec, embedOpt){\n",
       "    let outputDiv = document.currentScript.previousElementSibling;\n",
       "    if (outputDiv.id !== \"altair-viz-287399bb053043c5856622111ae2bee6\") {\n",
       "      outputDiv = document.getElementById(\"altair-viz-287399bb053043c5856622111ae2bee6\");\n",
       "    }\n",
       "    const paths = {\n",
       "      \"vega\": \"https://cdn.jsdelivr.net/npm/vega@5?noext\",\n",
       "      \"vega-lib\": \"https://cdn.jsdelivr.net/npm/vega-lib?noext\",\n",
       "      \"vega-lite\": \"https://cdn.jsdelivr.net/npm/vega-lite@5.8.0?noext\",\n",
       "      \"vega-embed\": \"https://cdn.jsdelivr.net/npm/vega-embed@6?noext\",\n",
       "    };\n",
       "\n",
       "    function maybeLoadScript(lib, version) {\n",
       "      var key = `${lib.replace(\"-\", \"\")}_version`;\n",
       "      return (VEGA_DEBUG[key] == version) ?\n",
       "        Promise.resolve(paths[lib]) :\n",
       "        new Promise(function(resolve, reject) {\n",
       "          var s = document.createElement('script');\n",
       "          document.getElementsByTagName(\"head\")[0].appendChild(s);\n",
       "          s.async = true;\n",
       "          s.onload = () => {\n",
       "            VEGA_DEBUG[key] = version;\n",
       "            return resolve(paths[lib]);\n",
       "          };\n",
       "          s.onerror = () => reject(`Error loading script: ${paths[lib]}`);\n",
       "          s.src = paths[lib];\n",
       "        });\n",
       "    }\n",
       "\n",
       "    function showError(err) {\n",
       "      outputDiv.innerHTML = `<div class=\"error\" style=\"color:red;\">${err}</div>`;\n",
       "      throw err;\n",
       "    }\n",
       "\n",
       "    function displayChart(vegaEmbed) {\n",
       "      vegaEmbed(outputDiv, spec, embedOpt)\n",
       "        .catch(err => showError(`Javascript Error: ${err.message}<br>This usually means there's a typo in your chart specification. See the javascript console for the full traceback.`));\n",
       "    }\n",
       "\n",
       "    if(typeof define === \"function\" && define.amd) {\n",
       "      requirejs.config({paths});\n",
       "      require([\"vega-embed\"], displayChart, err => showError(`Error loading script: ${err.message}`));\n",
       "    } else {\n",
       "      maybeLoadScript(\"vega\", \"5\")\n",
       "        .then(() => maybeLoadScript(\"vega-lite\", \"5.8.0\"))\n",
       "        .then(() => maybeLoadScript(\"vega-embed\", \"6\"))\n",
       "        .catch(showError)\n",
       "        .then(() => displayChart(vegaEmbed));\n",
       "    }\n",
       "  })({\"config\": {\"view\": {\"continuousWidth\": 300, \"continuousHeight\": 300}}, \"layer\": [{\"data\": {\"name\": \"empty\"}, \"mark\": {\"type\": \"geoshape\"}, \"projection\": {\"center\": [0, 50], \"rotate\": [-10, 0, 0], \"scale\": 400, \"type\": \"mercator\"}}, {\"layer\": [{\"data\": {\"sequence\": {\"start\": 0, \"stop\": 10, \"as\": \"a\"}, \"name\": \"tile_list\"}, \"mark\": {\"type\": \"image\", \"clip\": true, \"height\": {\"expr\": \"tile_size + 1\"}, \"width\": {\"expr\": \"tile_size + 1\"}}, \"encoding\": {\"url\": {\"field\": \"url\", \"type\": \"nominal\"}, \"x\": {\"field\": \"x\", \"scale\": null, \"type\": \"quantitative\"}, \"y\": {\"field\": \"y\", \"scale\": null, \"type\": \"quantitative\"}}, \"projection\": {\"center\": [0, 50], \"rotate\": [-10, 0, 0], \"scale\": 400, \"type\": \"mercator\"}, \"transform\": [{\"calculate\": \"sequence(0, 10)\", \"as\": \"b\"}, {\"flatten\": [\"b\"]}, {\"calculate\": \"'https://tile.openstreetmap.org/' + zoom_ceil + '/' + ((datum.a + dii_floor + tiles_count) % tiles_count) + '/' + (datum.b + djj_floor) + '.png'\", \"as\": \"url\"}, {\"calculate\": \"datum.a * tile_size + dx + (tile_size / 2)\", \"as\": \"x\"}, {\"calculate\": \"datum.b * tile_size + dy + (tile_size / 2)\", \"as\": \"y\"}, {\"filter\": \"((datum.a + dii_floor + tiles_count) % tiles_count) >= 0 && (datum.b + djj_floor) >= 0 && ((datum.a + dii_floor + tiles_count) % tiles_count) <= tiles_count && (datum.b + djj_floor) <= tiles_count\"}]}, {\"data\": {\"name\": \"empty\"}, \"mark\": {\"type\": \"text\", \"align\": \"left\", \"dx\": 3, \"dy\": -8, \"text\": \"(C) OpenStreetMap contributors\"}, \"encoding\": {\"x\": {\"value\": 0}, \"y\": {\"value\": {\"expr\": \"height\"}}}}]}, {\"data\": {\"url\": \"https://cdn.jsdelivr.net/npm/vega-datasets@v1.29.0/data/world-110m.json\", \"format\": {\"feature\": \"countries\", \"type\": \"topojson\"}}, \"mark\": {\"type\": \"geoshape\", \"fillOpacity\": 0.1, \"stroke\": \"orange\", \"strokeWidth\": 2}, \"encoding\": {\"fill\": {\"field\": \"id\", \"legend\": null, \"type\": \"quantitative\"}}, \"projection\": {\"center\": [0, 50], \"rotate\": [-10, 0, 0], \"scale\": 400, \"type\": \"mercator\"}}], \"height\": 600, \"params\": [{\"name\": \"base_tile_size\", \"expr\": \"(2 * PI * pr_scale) / pow(2, zoom_level)\"}, {\"name\": \"pr_scale\", \"expr\": \"400\"}, {\"name\": \"zoom_level\", \"value\": 3}, {\"name\": \"zoom_ceil\", \"expr\": \"ceil(zoom_level)\"}, {\"name\": \"tiles_count\", \"expr\": \"pow(2, zoom_ceil)\"}, {\"name\": \"tile_size\", \"expr\": \"base_tile_size * pow(2, zoom_level - zoom_ceil)\"}, {\"name\": \"base_point\", \"expr\": \"invert('projection', [0, 0])\"}, {\"name\": \"dii\", \"expr\": \"(base_point[0] + 180) / 360 * tiles_count\"}, {\"name\": \"dii_floor\", \"expr\": \"floor(dii)\"}, {\"name\": \"dx\", \"expr\": \"(dii_floor - dii) * tile_size\"}, {\"name\": \"djj\", \"expr\": \"(1 - log(tan(base_point[1] * PI / 180) + 1 / cos(base_point[1] * PI / 180)) / PI) / 2 * tiles_count\"}, {\"name\": \"djj_floor\", \"expr\": \"floor(djj)\"}, {\"name\": \"dy\", \"expr\": \"round((djj_floor - djj) * tile_size)\"}], \"width\": 600, \"$schema\": \"https://vega.github.io/schema/vega-lite/v5.8.0.json\", \"datasets\": {\"empty\": [{}]}}, {\"mode\": \"vega-lite\"});\n",
       "</script>"
      ],
      "text/plain": [
       "alt.LayerChart(...)"
      ]
     },
     "execution_count": 16,
     "metadata": {},
     "output_type": "execute_result"
    }
   ],
   "source": [
    "til.create_tiles_chart(geoshape_countries.projection, zoom=3) + geoshape_countries"
   ]
  },
  {
   "cell_type": "code",
   "execution_count": null,
   "metadata": {},
   "outputs": [],
   "source": []
  }
 ],
 "metadata": {
  "kernelspec": {
   "display_name": ".venv",
   "language": "python",
   "name": "python3"
  },
  "language_info": {
   "codemirror_mode": {
    "name": "ipython",
    "version": 3
   },
   "file_extension": ".py",
   "mimetype": "text/x-python",
   "name": "python",
   "nbconvert_exporter": "python",
   "pygments_lexer": "ipython3",
   "version": "3.10.8"
  },
  "orig_nbformat": 4
 },
 "nbformat": 4,
 "nbformat_minor": 2
}
